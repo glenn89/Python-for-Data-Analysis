{
 "cells": [
  {
   "cell_type": "markdown",
   "metadata": {
    "collapsed": false
   },
   "source": [
    "# Ch. 6 Data Loading, Storage, and File Formats"
   ]
  },
  {
   "cell_type": "markdown",
   "metadata": {},
   "source": [
    "## 1. 텍스트 파일 이용하는 방법"
   ]
  },
  {
   "cell_type": "markdown",
   "metadata": {},
   "source": [
    "- pandas는 표 형식의 자료를 DataFrame 객체로 읽어오는 몇 가지 기능을 제공"
   ]
  },
  {
   "cell_type": "markdown",
   "metadata": {},
   "source": [
    "| 함수 | 설명 |\n",
    "| :------------ | :----------- |\n",
    "| read_csv | 파일, URL 또는 파일과 유사한 객체로부터 구분된 데이터를 읽어온다. 데이터 구분자는 쉽표(,)를 기본으로 한다. |\n",
    "| read_table | 파일, URL 또는 파일과 유사한 객체로부터 구분된 데이터를 읽어온다. 데이터 구분자는 탭('\\t')을 기본으로 한다. |\n",
    "| read_fwf | 고정폭 칼럼 형식에서 데이터를 읽어온다(구분자가 없는 데이터). |\n",
    "| read_clipboard | 클립보드에 있는 데이터를 읽어오는 read_table 함수. 웹페이지에서 표를 긁어올 때 유용하다. |"
   ]
  },
  {
   "cell_type": "code",
   "execution_count": 585,
   "metadata": {
    "collapsed": true
   },
   "outputs": [],
   "source": [
    "from __future__ import division\n",
    "from numpy.random import randn\n",
    "import numpy as np\n",
    "import os\n",
    "import matplotlib.pyplot as plt\n",
    "from pandas import Series, DataFrame\n",
    "import pandas as pd"
   ]
  },
  {
   "cell_type": "markdown",
   "metadata": {},
   "source": [
    "- ex01.csv 파일을 읽어오기"
   ]
  },
  {
   "cell_type": "code",
   "execution_count": 586,
   "metadata": {
    "collapsed": false
   },
   "outputs": [
    {
     "data": {
      "text/plain": [
       "['a,b,c,d,message\\n', '1,2,3,4,hello\\n', '5,6,7,8,world\\n', '9,10,11,12,foo']"
      ]
     },
     "execution_count": 586,
     "metadata": {},
     "output_type": "execute_result"
    }
   ],
   "source": [
    "#urllib를 이용하여 파일을 읽어온 경우\n",
    "import urllib\n",
    "list(urllib.urlopen('https://raw.githubusercontent.com/pydata/pydata-book/master/ch06/ex1.csv'))\n",
    "#해당 URL주소의 파일을 리스트로 만들어 주는 파이썬 기본 내장함수"
   ]
  },
  {
   "cell_type": "code",
   "execution_count": 587,
   "metadata": {
    "collapsed": false
   },
   "outputs": [
    {
     "data": {
      "text/html": [
       "<div>\n",
       "<table border=\"1\" class=\"dataframe\">\n",
       "  <thead>\n",
       "    <tr style=\"text-align: right;\">\n",
       "      <th></th>\n",
       "      <th>a</th>\n",
       "      <th>b</th>\n",
       "      <th>c</th>\n",
       "      <th>d</th>\n",
       "      <th>message</th>\n",
       "    </tr>\n",
       "  </thead>\n",
       "  <tbody>\n",
       "    <tr>\n",
       "      <th>0</th>\n",
       "      <td>1</td>\n",
       "      <td>2</td>\n",
       "      <td>3</td>\n",
       "      <td>4</td>\n",
       "      <td>hello</td>\n",
       "    </tr>\n",
       "    <tr>\n",
       "      <th>1</th>\n",
       "      <td>5</td>\n",
       "      <td>6</td>\n",
       "      <td>7</td>\n",
       "      <td>8</td>\n",
       "      <td>world</td>\n",
       "    </tr>\n",
       "    <tr>\n",
       "      <th>2</th>\n",
       "      <td>9</td>\n",
       "      <td>10</td>\n",
       "      <td>11</td>\n",
       "      <td>12</td>\n",
       "      <td>foo</td>\n",
       "    </tr>\n",
       "  </tbody>\n",
       "</table>\n",
       "</div>"
      ],
      "text/plain": [
       "   a   b   c   d message\n",
       "0  1   2   3   4   hello\n",
       "1  5   6   7   8   world\n",
       "2  9  10  11  12     foo"
      ]
     },
     "execution_count": 587,
     "metadata": {},
     "output_type": "execute_result"
    }
   ],
   "source": [
    "#read_csv만을 이용하여 DataFrame으로 읽어 올 수 있다.\n",
    "df = pd.read_csv('https://raw.githubusercontent.com/pydata/pydata-book/master/ch06/ex1.csv')\n",
    "df"
   ]
  },
  {
   "cell_type": "code",
   "execution_count": 588,
   "metadata": {
    "collapsed": false,
    "scrolled": true
   },
   "outputs": [
    {
     "data": {
      "text/html": [
       "<div>\n",
       "<table border=\"1\" class=\"dataframe\">\n",
       "  <thead>\n",
       "    <tr style=\"text-align: right;\">\n",
       "      <th></th>\n",
       "      <th>a</th>\n",
       "      <th>b</th>\n",
       "      <th>c</th>\n",
       "      <th>d</th>\n",
       "      <th>message</th>\n",
       "    </tr>\n",
       "  </thead>\n",
       "  <tbody>\n",
       "    <tr>\n",
       "      <th>0</th>\n",
       "      <td>1</td>\n",
       "      <td>2</td>\n",
       "      <td>3</td>\n",
       "      <td>4</td>\n",
       "      <td>hello</td>\n",
       "    </tr>\n",
       "    <tr>\n",
       "      <th>1</th>\n",
       "      <td>5</td>\n",
       "      <td>6</td>\n",
       "      <td>7</td>\n",
       "      <td>8</td>\n",
       "      <td>world</td>\n",
       "    </tr>\n",
       "    <tr>\n",
       "      <th>2</th>\n",
       "      <td>9</td>\n",
       "      <td>10</td>\n",
       "      <td>11</td>\n",
       "      <td>12</td>\n",
       "      <td>foo</td>\n",
       "    </tr>\n",
       "  </tbody>\n",
       "</table>\n",
       "</div>"
      ],
      "text/plain": [
       "   a   b   c   d message\n",
       "0  1   2   3   4   hello\n",
       "1  5   6   7   8   world\n",
       "2  9  10  11  12     foo"
      ]
     },
     "execution_count": 588,
     "metadata": {},
     "output_type": "execute_result"
    }
   ],
   "source": [
    "#read_table을 이용하여 쉼표를 구분자로 지정하여 읽어 올 수 있다.\n",
    "pd.read_table('https://raw.githubusercontent.com/pydata/pydata-book/master/ch06/ex1.csv', sep=',')"
   ]
  },
  {
   "cell_type": "code",
   "execution_count": null,
   "metadata": {
    "collapsed": true
   },
   "outputs": [],
   "source": []
  },
  {
   "cell_type": "markdown",
   "metadata": {},
   "source": [
    "- ex02.csv 파일 읽어오기"
   ]
  },
  {
   "cell_type": "code",
   "execution_count": 589,
   "metadata": {
    "collapsed": false
   },
   "outputs": [
    {
     "data": {
      "text/plain": [
       "['1,2,3,4,hello\\n', '5,6,7,8,world\\n', '9,10,11,12,foo']"
      ]
     },
     "execution_count": 589,
     "metadata": {},
     "output_type": "execute_result"
    }
   ],
   "source": [
    "#ex2.csv 파일은 다음과 같은 내용이 들어 있다.\n",
    "list(urllib.urlopen('https://raw.githubusercontent.com/pydata/pydata-book/master/ch06/ex2.csv'))"
   ]
  },
  {
   "cell_type": "code",
   "execution_count": 590,
   "metadata": {
    "collapsed": false
   },
   "outputs": [
    {
     "data": {
      "text/html": [
       "<div>\n",
       "<table border=\"1\" class=\"dataframe\">\n",
       "  <thead>\n",
       "    <tr style=\"text-align: right;\">\n",
       "      <th></th>\n",
       "      <th>0</th>\n",
       "      <th>1</th>\n",
       "      <th>2</th>\n",
       "      <th>3</th>\n",
       "      <th>4</th>\n",
       "    </tr>\n",
       "  </thead>\n",
       "  <tbody>\n",
       "    <tr>\n",
       "      <th>0</th>\n",
       "      <td>1</td>\n",
       "      <td>2</td>\n",
       "      <td>3</td>\n",
       "      <td>4</td>\n",
       "      <td>hello</td>\n",
       "    </tr>\n",
       "    <tr>\n",
       "      <th>1</th>\n",
       "      <td>5</td>\n",
       "      <td>6</td>\n",
       "      <td>7</td>\n",
       "      <td>8</td>\n",
       "      <td>world</td>\n",
       "    </tr>\n",
       "    <tr>\n",
       "      <th>2</th>\n",
       "      <td>9</td>\n",
       "      <td>10</td>\n",
       "      <td>11</td>\n",
       "      <td>12</td>\n",
       "      <td>foo</td>\n",
       "    </tr>\n",
       "  </tbody>\n",
       "</table>\n",
       "</div>"
      ],
      "text/plain": [
       "   0   1   2   3      4\n",
       "0  1   2   3   4  hello\n",
       "1  5   6   7   8  world\n",
       "2  9  10  11  12    foo"
      ]
     },
     "execution_count": 590,
     "metadata": {},
     "output_type": "execute_result"
    }
   ],
   "source": [
    "#pandas가 자동으로 칼럼을 생성하도록 하는 옵션, 다양하게 지정도 가능\n",
    "pd.read_csv('https://raw.githubusercontent.com/pydata/pydata-book/master/ch06/ex2.csv', header=None)"
   ]
  },
  {
   "cell_type": "code",
   "execution_count": 591,
   "metadata": {
    "collapsed": false
   },
   "outputs": [
    {
     "data": {
      "text/html": [
       "<div>\n",
       "<table border=\"1\" class=\"dataframe\">\n",
       "  <thead>\n",
       "    <tr style=\"text-align: right;\">\n",
       "      <th></th>\n",
       "      <th>a</th>\n",
       "      <th>b</th>\n",
       "      <th>c</th>\n",
       "      <th>d</th>\n",
       "      <th>message</th>\n",
       "    </tr>\n",
       "  </thead>\n",
       "  <tbody>\n",
       "    <tr>\n",
       "      <th>0</th>\n",
       "      <td>1</td>\n",
       "      <td>2</td>\n",
       "      <td>3</td>\n",
       "      <td>4</td>\n",
       "      <td>hello</td>\n",
       "    </tr>\n",
       "    <tr>\n",
       "      <th>1</th>\n",
       "      <td>5</td>\n",
       "      <td>6</td>\n",
       "      <td>7</td>\n",
       "      <td>8</td>\n",
       "      <td>world</td>\n",
       "    </tr>\n",
       "    <tr>\n",
       "      <th>2</th>\n",
       "      <td>9</td>\n",
       "      <td>10</td>\n",
       "      <td>11</td>\n",
       "      <td>12</td>\n",
       "      <td>foo</td>\n",
       "    </tr>\n",
       "  </tbody>\n",
       "</table>\n",
       "</div>"
      ],
      "text/plain": [
       "   a   b   c   d message\n",
       "0  1   2   3   4   hello\n",
       "1  5   6   7   8   world\n",
       "2  9  10  11  12     foo"
      ]
     },
     "execution_count": 591,
     "metadata": {},
     "output_type": "execute_result"
    }
   ],
   "source": [
    "pd.read_csv('https://raw.githubusercontent.com/pydata/pydata-book/master/ch06/ex2.csv', names=['a', 'b', 'c', 'd', 'message'])"
   ]
  },
  {
   "cell_type": "markdown",
   "metadata": {},
   "source": [
    "- meassage 칼럼을 색인으로하는 DataFrame을 반환하려면 index_col 인자를 이용하여 색인으로 생성이 가능"
   ]
  },
  {
   "cell_type": "code",
   "execution_count": 592,
   "metadata": {
    "collapsed": true
   },
   "outputs": [],
   "source": [
    "names = ['a','b','c','d','message']"
   ]
  },
  {
   "cell_type": "code",
   "execution_count": 593,
   "metadata": {
    "collapsed": false
   },
   "outputs": [
    {
     "data": {
      "text/html": [
       "<div>\n",
       "<table border=\"1\" class=\"dataframe\">\n",
       "  <thead>\n",
       "    <tr style=\"text-align: right;\">\n",
       "      <th></th>\n",
       "      <th>a</th>\n",
       "      <th>b</th>\n",
       "      <th>c</th>\n",
       "      <th>d</th>\n",
       "    </tr>\n",
       "    <tr>\n",
       "      <th>message</th>\n",
       "      <th></th>\n",
       "      <th></th>\n",
       "      <th></th>\n",
       "      <th></th>\n",
       "    </tr>\n",
       "  </thead>\n",
       "  <tbody>\n",
       "    <tr>\n",
       "      <th>hello</th>\n",
       "      <td>1</td>\n",
       "      <td>2</td>\n",
       "      <td>3</td>\n",
       "      <td>4</td>\n",
       "    </tr>\n",
       "    <tr>\n",
       "      <th>world</th>\n",
       "      <td>5</td>\n",
       "      <td>6</td>\n",
       "      <td>7</td>\n",
       "      <td>8</td>\n",
       "    </tr>\n",
       "    <tr>\n",
       "      <th>foo</th>\n",
       "      <td>9</td>\n",
       "      <td>10</td>\n",
       "      <td>11</td>\n",
       "      <td>12</td>\n",
       "    </tr>\n",
       "  </tbody>\n",
       "</table>\n",
       "</div>"
      ],
      "text/plain": [
       "         a   b   c   d\n",
       "message               \n",
       "hello    1   2   3   4\n",
       "world    5   6   7   8\n",
       "foo      9  10  11  12"
      ]
     },
     "execution_count": 593,
     "metadata": {},
     "output_type": "execute_result"
    }
   ],
   "source": [
    "pd.read_csv('https://raw.githubusercontent.com/pydata/pydata-book/master/ch06/ex2.csv', names=names, index_col='message')\n",
    "#message를 index로 하여 출력"
   ]
  },
  {
   "cell_type": "code",
   "execution_count": null,
   "metadata": {
    "collapsed": true
   },
   "outputs": [],
   "source": []
  },
  {
   "cell_type": "markdown",
   "metadata": {},
   "source": [
    "- csv_mindex.csv 파일 읽어오기\n",
    "- 계층적 색인을 지정하고 싶은경우, 칼럼 번호나 이름의 리스트를 넘기면 된다."
   ]
  },
  {
   "cell_type": "code",
   "execution_count": 594,
   "metadata": {
    "collapsed": false
   },
   "outputs": [
    {
     "data": {
      "text/plain": [
       "['key1,key2,value1,value2\\n',\n",
       " 'one,a,1,2\\n',\n",
       " 'one,b,3,4\\n',\n",
       " 'one,c,5,6\\n',\n",
       " 'one,d,7,8\\n',\n",
       " 'two,a,9,10\\n',\n",
       " 'two,b,11,12\\n',\n",
       " 'two,c,13,14\\n',\n",
       " 'two,d,15,16\\n']"
      ]
     },
     "execution_count": 594,
     "metadata": {},
     "output_type": "execute_result"
    }
   ],
   "source": [
    "list(urllib.urlopen('https://raw.githubusercontent.com/pydata/pydata-book/master/ch06/csv_mindex.csv'))"
   ]
  },
  {
   "cell_type": "code",
   "execution_count": 595,
   "metadata": {
    "collapsed": false
   },
   "outputs": [
    {
     "data": {
      "text/html": [
       "<div>\n",
       "<table border=\"1\" class=\"dataframe\">\n",
       "  <thead>\n",
       "    <tr style=\"text-align: right;\">\n",
       "      <th></th>\n",
       "      <th></th>\n",
       "      <th>value1</th>\n",
       "      <th>value2</th>\n",
       "    </tr>\n",
       "    <tr>\n",
       "      <th>key1</th>\n",
       "      <th>key2</th>\n",
       "      <th></th>\n",
       "      <th></th>\n",
       "    </tr>\n",
       "  </thead>\n",
       "  <tbody>\n",
       "    <tr>\n",
       "      <th rowspan=\"4\" valign=\"top\">one</th>\n",
       "      <th>a</th>\n",
       "      <td>1</td>\n",
       "      <td>2</td>\n",
       "    </tr>\n",
       "    <tr>\n",
       "      <th>b</th>\n",
       "      <td>3</td>\n",
       "      <td>4</td>\n",
       "    </tr>\n",
       "    <tr>\n",
       "      <th>c</th>\n",
       "      <td>5</td>\n",
       "      <td>6</td>\n",
       "    </tr>\n",
       "    <tr>\n",
       "      <th>d</th>\n",
       "      <td>7</td>\n",
       "      <td>8</td>\n",
       "    </tr>\n",
       "    <tr>\n",
       "      <th rowspan=\"4\" valign=\"top\">two</th>\n",
       "      <th>a</th>\n",
       "      <td>9</td>\n",
       "      <td>10</td>\n",
       "    </tr>\n",
       "    <tr>\n",
       "      <th>b</th>\n",
       "      <td>11</td>\n",
       "      <td>12</td>\n",
       "    </tr>\n",
       "    <tr>\n",
       "      <th>c</th>\n",
       "      <td>13</td>\n",
       "      <td>14</td>\n",
       "    </tr>\n",
       "    <tr>\n",
       "      <th>d</th>\n",
       "      <td>15</td>\n",
       "      <td>16</td>\n",
       "    </tr>\n",
       "  </tbody>\n",
       "</table>\n",
       "</div>"
      ],
      "text/plain": [
       "           value1  value2\n",
       "key1 key2                \n",
       "one  a          1       2\n",
       "     b          3       4\n",
       "     c          5       6\n",
       "     d          7       8\n",
       "two  a          9      10\n",
       "     b         11      12\n",
       "     c         13      14\n",
       "     d         15      16"
      ]
     },
     "execution_count": 595,
     "metadata": {},
     "output_type": "execute_result"
    }
   ],
   "source": [
    "parsed = pd.read_csv('https://raw.githubusercontent.com/pydata/pydata-book/master/ch06/csv_mindex.csv', index_col=['key1', 'key2'])\n",
    "parsed    #key1, key2를 이용하여 계층적 색인이 가능하도록 하였다."
   ]
  },
  {
   "cell_type": "code",
   "execution_count": null,
   "metadata": {
    "collapsed": true
   },
   "outputs": [],
   "source": []
  },
  {
   "cell_type": "markdown",
   "metadata": {},
   "source": [
    "- ex03.csv파일 불러오기"
   ]
  },
  {
   "cell_type": "code",
   "execution_count": 596,
   "metadata": {
    "collapsed": false,
    "scrolled": true
   },
   "outputs": [
    {
     "name": "stdout",
     "output_type": "stream",
     "text": [
      "<type 'list'>\n",
      "['            A         B         C\\n', 'aaa -0.264438 -1.026059 -0.619500\\n', 'bbb  0.927272  0.302904 -0.032399\\n', 'ccc -0.264273 -0.386314 -0.217601\\n', 'ddd -0.871858 -0.348382  1.100491\\n']\n"
     ]
    }
   ],
   "source": [
    "a = list(urllib.urlopen('https://raw.githubusercontent.com/pydata/pydata-book/master/ch06/ex3.txt'))\n",
    "print type(a)\n",
    "print a"
   ]
  },
  {
   "cell_type": "markdown",
   "metadata": {},
   "source": [
    "- 여러개의 공백문자로 필드가 구분되어 있으므로 정규표현식 \\s+을 사용하여 처리"
   ]
  },
  {
   "cell_type": "code",
   "execution_count": 597,
   "metadata": {
    "collapsed": false
   },
   "outputs": [
    {
     "data": {
      "text/html": [
       "<div>\n",
       "<table border=\"1\" class=\"dataframe\">\n",
       "  <thead>\n",
       "    <tr style=\"text-align: right;\">\n",
       "      <th></th>\n",
       "      <th>A</th>\n",
       "      <th>B</th>\n",
       "      <th>C</th>\n",
       "    </tr>\n",
       "  </thead>\n",
       "  <tbody>\n",
       "    <tr>\n",
       "      <th>aaa</th>\n",
       "      <td>-0.264438</td>\n",
       "      <td>-1.026059</td>\n",
       "      <td>-0.619500</td>\n",
       "    </tr>\n",
       "    <tr>\n",
       "      <th>bbb</th>\n",
       "      <td>0.927272</td>\n",
       "      <td>0.302904</td>\n",
       "      <td>-0.032399</td>\n",
       "    </tr>\n",
       "    <tr>\n",
       "      <th>ccc</th>\n",
       "      <td>-0.264273</td>\n",
       "      <td>-0.386314</td>\n",
       "      <td>-0.217601</td>\n",
       "    </tr>\n",
       "    <tr>\n",
       "      <th>ddd</th>\n",
       "      <td>-0.871858</td>\n",
       "      <td>-0.348382</td>\n",
       "      <td>1.100491</td>\n",
       "    </tr>\n",
       "  </tbody>\n",
       "</table>\n",
       "</div>"
      ],
      "text/plain": [
       "            A         B         C\n",
       "aaa -0.264438 -1.026059 -0.619500\n",
       "bbb  0.927272  0.302904 -0.032399\n",
       "ccc -0.264273 -0.386314 -0.217601\n",
       "ddd -0.871858 -0.348382  1.100491"
      ]
     },
     "execution_count": 597,
     "metadata": {},
     "output_type": "execute_result"
    }
   ],
   "source": [
    "result = pd.read_table('https://raw.githubusercontent.com/pydata/pydata-book/master/ch06/ex3.txt', sep='\\s+')\n",
    "result"
   ]
  },
  {
   "cell_type": "code",
   "execution_count": null,
   "metadata": {
    "collapsed": true
   },
   "outputs": [],
   "source": []
  },
  {
   "cell_type": "markdown",
   "metadata": {},
   "source": [
    "- ex04.csv 파일 불러오기\n",
    "- ex04파일 처럼 필요없는 열이 포함된 파일인 경우, skiprow를 이용해 해당 열을 건너 뛰고 출력 한다."
   ]
  },
  {
   "cell_type": "code",
   "execution_count": 598,
   "metadata": {
    "collapsed": false
   },
   "outputs": [
    {
     "data": {
      "text/plain": [
       "['# hey!\\n',\n",
       " 'a,b,c,d,message\\n',\n",
       " '# just wanted to make things more difficult for you\\n',\n",
       " '# who reads CSV files with computers, anyway?\\n',\n",
       " '1,2,3,4,hello\\n',\n",
       " '5,6,7,8,world\\n',\n",
       " '9,10,11,12,foo']"
      ]
     },
     "execution_count": 598,
     "metadata": {},
     "output_type": "execute_result"
    }
   ],
   "source": [
    "list(urllib.urlopen('https://raw.githubusercontent.com/pydata/pydata-book/master/ch06/ex4.csv'))"
   ]
  },
  {
   "cell_type": "code",
   "execution_count": 599,
   "metadata": {
    "collapsed": false
   },
   "outputs": [
    {
     "data": {
      "text/html": [
       "<div>\n",
       "<table border=\"1\" class=\"dataframe\">\n",
       "  <thead>\n",
       "    <tr style=\"text-align: right;\">\n",
       "      <th></th>\n",
       "      <th>a</th>\n",
       "      <th>b</th>\n",
       "      <th>c</th>\n",
       "      <th>d</th>\n",
       "      <th>message</th>\n",
       "    </tr>\n",
       "  </thead>\n",
       "  <tbody>\n",
       "    <tr>\n",
       "      <th>0</th>\n",
       "      <td>1</td>\n",
       "      <td>2</td>\n",
       "      <td>3</td>\n",
       "      <td>4</td>\n",
       "      <td>hello</td>\n",
       "    </tr>\n",
       "    <tr>\n",
       "      <th>1</th>\n",
       "      <td>5</td>\n",
       "      <td>6</td>\n",
       "      <td>7</td>\n",
       "      <td>8</td>\n",
       "      <td>world</td>\n",
       "    </tr>\n",
       "    <tr>\n",
       "      <th>2</th>\n",
       "      <td>9</td>\n",
       "      <td>10</td>\n",
       "      <td>11</td>\n",
       "      <td>12</td>\n",
       "      <td>foo</td>\n",
       "    </tr>\n",
       "  </tbody>\n",
       "</table>\n",
       "</div>"
      ],
      "text/plain": [
       "   a   b   c   d message\n",
       "0  1   2   3   4   hello\n",
       "1  5   6   7   8   world\n",
       "2  9  10  11  12     foo"
      ]
     },
     "execution_count": 599,
     "metadata": {},
     "output_type": "execute_result"
    }
   ],
   "source": [
    "pd.read_csv('https://raw.githubusercontent.com/pydata/pydata-book/master/ch06/ex4.csv', skiprows=[0,2,3])"
   ]
  },
  {
   "cell_type": "code",
   "execution_count": null,
   "metadata": {
    "collapsed": true
   },
   "outputs": [],
   "source": []
  },
  {
   "cell_type": "markdown",
   "metadata": {},
   "source": [
    "- ex05.csv 파일 불러오기"
   ]
  },
  {
   "cell_type": "code",
   "execution_count": 600,
   "metadata": {
    "collapsed": false
   },
   "outputs": [
    {
     "data": {
      "text/plain": [
       "['something,a,b,c,d,message\\n',\n",
       " 'one,1,2,3,4,NA\\n',\n",
       " 'two,5,6,,8,world\\n',\n",
       " 'three,9,10,11,12,foo']"
      ]
     },
     "execution_count": 600,
     "metadata": {},
     "output_type": "execute_result"
    }
   ],
   "source": [
    "list(urllib.urlopen('https://raw.githubusercontent.com/pydata/pydata-book/master/ch06/ex5.csv'))"
   ]
  },
  {
   "cell_type": "code",
   "execution_count": 601,
   "metadata": {
    "collapsed": false
   },
   "outputs": [
    {
     "data": {
      "text/html": [
       "<div>\n",
       "<table border=\"1\" class=\"dataframe\">\n",
       "  <thead>\n",
       "    <tr style=\"text-align: right;\">\n",
       "      <th></th>\n",
       "      <th>something</th>\n",
       "      <th>a</th>\n",
       "      <th>b</th>\n",
       "      <th>c</th>\n",
       "      <th>d</th>\n",
       "      <th>message</th>\n",
       "    </tr>\n",
       "  </thead>\n",
       "  <tbody>\n",
       "    <tr>\n",
       "      <th>0</th>\n",
       "      <td>one</td>\n",
       "      <td>1</td>\n",
       "      <td>2</td>\n",
       "      <td>3</td>\n",
       "      <td>4</td>\n",
       "      <td>NaN</td>\n",
       "    </tr>\n",
       "    <tr>\n",
       "      <th>1</th>\n",
       "      <td>two</td>\n",
       "      <td>5</td>\n",
       "      <td>6</td>\n",
       "      <td>NaN</td>\n",
       "      <td>8</td>\n",
       "      <td>world</td>\n",
       "    </tr>\n",
       "    <tr>\n",
       "      <th>2</th>\n",
       "      <td>three</td>\n",
       "      <td>9</td>\n",
       "      <td>10</td>\n",
       "      <td>11</td>\n",
       "      <td>12</td>\n",
       "      <td>foo</td>\n",
       "    </tr>\n",
       "  </tbody>\n",
       "</table>\n",
       "</div>"
      ],
      "text/plain": [
       "  something  a   b   c   d message\n",
       "0       one  1   2   3   4     NaN\n",
       "1       two  5   6 NaN   8   world\n",
       "2     three  9  10  11  12     foo"
      ]
     },
     "execution_count": 601,
     "metadata": {},
     "output_type": "execute_result"
    }
   ],
   "source": [
    "result = pd.read_csv('https://raw.githubusercontent.com/pydata/pydata-book/master/ch06/ex5.csv')\n",
    "result   #해당 파일을 read_csv 함수를 이용하여 DataFrame으로 출력"
   ]
  },
  {
   "cell_type": "code",
   "execution_count": 602,
   "metadata": {
    "collapsed": false
   },
   "outputs": [
    {
     "data": {
      "text/html": [
       "<div>\n",
       "<table border=\"1\" class=\"dataframe\">\n",
       "  <thead>\n",
       "    <tr style=\"text-align: right;\">\n",
       "      <th></th>\n",
       "      <th>something</th>\n",
       "      <th>a</th>\n",
       "      <th>b</th>\n",
       "      <th>c</th>\n",
       "      <th>d</th>\n",
       "      <th>message</th>\n",
       "    </tr>\n",
       "  </thead>\n",
       "  <tbody>\n",
       "    <tr>\n",
       "      <th>0</th>\n",
       "      <td>False</td>\n",
       "      <td>False</td>\n",
       "      <td>False</td>\n",
       "      <td>False</td>\n",
       "      <td>False</td>\n",
       "      <td>True</td>\n",
       "    </tr>\n",
       "    <tr>\n",
       "      <th>1</th>\n",
       "      <td>False</td>\n",
       "      <td>False</td>\n",
       "      <td>False</td>\n",
       "      <td>True</td>\n",
       "      <td>False</td>\n",
       "      <td>False</td>\n",
       "    </tr>\n",
       "    <tr>\n",
       "      <th>2</th>\n",
       "      <td>False</td>\n",
       "      <td>False</td>\n",
       "      <td>False</td>\n",
       "      <td>False</td>\n",
       "      <td>False</td>\n",
       "      <td>False</td>\n",
       "    </tr>\n",
       "  </tbody>\n",
       "</table>\n",
       "</div>"
      ],
      "text/plain": [
       "  something      a      b      c      d message\n",
       "0     False  False  False  False  False    True\n",
       "1     False  False  False   True  False   False\n",
       "2     False  False  False  False  False   False"
      ]
     },
     "execution_count": 602,
     "metadata": {},
     "output_type": "execute_result"
    }
   ],
   "source": [
    "pd.isnull(result)   #null값이 들어간 값에 대해서만 True가 출력"
   ]
  },
  {
   "cell_type": "markdown",
   "metadata": {},
   "source": [
    "- na_values 옵션은 리스트나 문자열 집합을 받아서 누락된 값을 처리한다."
   ]
  },
  {
   "cell_type": "code",
   "execution_count": 603,
   "metadata": {
    "collapsed": false
   },
   "outputs": [
    {
     "data": {
      "text/html": [
       "<div>\n",
       "<table border=\"1\" class=\"dataframe\">\n",
       "  <thead>\n",
       "    <tr style=\"text-align: right;\">\n",
       "      <th></th>\n",
       "      <th>something</th>\n",
       "      <th>a</th>\n",
       "      <th>b</th>\n",
       "      <th>c</th>\n",
       "      <th>d</th>\n",
       "      <th>message</th>\n",
       "    </tr>\n",
       "  </thead>\n",
       "  <tbody>\n",
       "    <tr>\n",
       "      <th>0</th>\n",
       "      <td>one</td>\n",
       "      <td>1</td>\n",
       "      <td>2</td>\n",
       "      <td>3</td>\n",
       "      <td>4</td>\n",
       "      <td>NaN</td>\n",
       "    </tr>\n",
       "    <tr>\n",
       "      <th>1</th>\n",
       "      <td>two</td>\n",
       "      <td>5</td>\n",
       "      <td>6</td>\n",
       "      <td>NaN</td>\n",
       "      <td>8</td>\n",
       "      <td>world</td>\n",
       "    </tr>\n",
       "    <tr>\n",
       "      <th>2</th>\n",
       "      <td>three</td>\n",
       "      <td>9</td>\n",
       "      <td>10</td>\n",
       "      <td>11</td>\n",
       "      <td>12</td>\n",
       "      <td>foo</td>\n",
       "    </tr>\n",
       "  </tbody>\n",
       "</table>\n",
       "</div>"
      ],
      "text/plain": [
       "  something  a   b   c   d message\n",
       "0       one  1   2   3   4     NaN\n",
       "1       two  5   6 NaN   8   world\n",
       "2     three  9  10  11  12     foo"
      ]
     },
     "execution_count": 603,
     "metadata": {},
     "output_type": "execute_result"
    }
   ],
   "source": [
    "result = pd.read_csv('https://raw.githubusercontent.com/pydata/pydata-book/master/ch06/ex5.csv', na_values=['NULL'])\n",
    "result"
   ]
  },
  {
   "cell_type": "markdown",
   "metadata": {},
   "source": [
    "- 열마다 다른 NA 문자를 사전 값으로 넘겨 처리할 수도 있다."
   ]
  },
  {
   "cell_type": "code",
   "execution_count": 604,
   "metadata": {
    "collapsed": true
   },
   "outputs": [],
   "source": [
    "sentinels = {'message': ['foo', 'NA'], 'something': ['two']}   #각 칼럼의 다른 문자를 사전값으로 처리"
   ]
  },
  {
   "cell_type": "code",
   "execution_count": 605,
   "metadata": {
    "collapsed": false
   },
   "outputs": [
    {
     "data": {
      "text/html": [
       "<div>\n",
       "<table border=\"1\" class=\"dataframe\">\n",
       "  <thead>\n",
       "    <tr style=\"text-align: right;\">\n",
       "      <th></th>\n",
       "      <th>something</th>\n",
       "      <th>a</th>\n",
       "      <th>b</th>\n",
       "      <th>c</th>\n",
       "      <th>d</th>\n",
       "      <th>message</th>\n",
       "    </tr>\n",
       "  </thead>\n",
       "  <tbody>\n",
       "    <tr>\n",
       "      <th>0</th>\n",
       "      <td>one</td>\n",
       "      <td>1</td>\n",
       "      <td>2</td>\n",
       "      <td>3</td>\n",
       "      <td>4</td>\n",
       "      <td>NaN</td>\n",
       "    </tr>\n",
       "    <tr>\n",
       "      <th>1</th>\n",
       "      <td>NaN</td>\n",
       "      <td>5</td>\n",
       "      <td>6</td>\n",
       "      <td>NaN</td>\n",
       "      <td>8</td>\n",
       "      <td>world</td>\n",
       "    </tr>\n",
       "    <tr>\n",
       "      <th>2</th>\n",
       "      <td>three</td>\n",
       "      <td>9</td>\n",
       "      <td>10</td>\n",
       "      <td>11</td>\n",
       "      <td>12</td>\n",
       "      <td>NaN</td>\n",
       "    </tr>\n",
       "  </tbody>\n",
       "</table>\n",
       "</div>"
      ],
      "text/plain": [
       "  something  a   b   c   d message\n",
       "0       one  1   2   3   4     NaN\n",
       "1       NaN  5   6 NaN   8   world\n",
       "2     three  9  10  11  12     NaN"
      ]
     },
     "execution_count": 605,
     "metadata": {},
     "output_type": "execute_result"
    }
   ],
   "source": [
    "pd.read_csv('https://raw.githubusercontent.com/pydata/pydata-book/master/ch06/ex5.csv', na_values=sentinels)\n",
    "#message에서 foo와 NA를 something에서 two를 null로 인식 하도록"
   ]
  },
  {
   "cell_type": "code",
   "execution_count": null,
   "metadata": {
    "collapsed": true
   },
   "outputs": [],
   "source": []
  },
  {
   "cell_type": "markdown",
   "metadata": {},
   "source": [
    "### 1) 텍스트 파일 조금씩 읽어오기"
   ]
  },
  {
   "cell_type": "markdown",
   "metadata": {},
   "source": [
    "- 매우 큰 파일을 처리할 때 인자를 제대로 주었는지 알아보기 위해 파일의 일부분만 읽어보거나 여러 파일중에서 몇 개의 파일만 읽어서 확인하고 싶은 경우"
   ]
  },
  {
   "cell_type": "code",
   "execution_count": 606,
   "metadata": {
    "collapsed": false
   },
   "outputs": [
    {
     "data": {
      "text/html": [
       "<div>\n",
       "<table border=\"1\" class=\"dataframe\">\n",
       "  <thead>\n",
       "    <tr style=\"text-align: right;\">\n",
       "      <th></th>\n",
       "      <th>one</th>\n",
       "      <th>two</th>\n",
       "      <th>three</th>\n",
       "      <th>four</th>\n",
       "      <th>key</th>\n",
       "    </tr>\n",
       "  </thead>\n",
       "  <tbody>\n",
       "    <tr>\n",
       "      <th>0</th>\n",
       "      <td>0.467976</td>\n",
       "      <td>-0.038649</td>\n",
       "      <td>-0.295344</td>\n",
       "      <td>-1.824726</td>\n",
       "      <td>L</td>\n",
       "    </tr>\n",
       "    <tr>\n",
       "      <th>1</th>\n",
       "      <td>-0.358893</td>\n",
       "      <td>1.404453</td>\n",
       "      <td>0.704965</td>\n",
       "      <td>-0.200638</td>\n",
       "      <td>B</td>\n",
       "    </tr>\n",
       "    <tr>\n",
       "      <th>2</th>\n",
       "      <td>-0.501840</td>\n",
       "      <td>0.659254</td>\n",
       "      <td>-0.421691</td>\n",
       "      <td>-0.057688</td>\n",
       "      <td>G</td>\n",
       "    </tr>\n",
       "    <tr>\n",
       "      <th>3</th>\n",
       "      <td>0.204886</td>\n",
       "      <td>1.074134</td>\n",
       "      <td>1.388361</td>\n",
       "      <td>-0.982404</td>\n",
       "      <td>R</td>\n",
       "    </tr>\n",
       "    <tr>\n",
       "      <th>4</th>\n",
       "      <td>0.354628</td>\n",
       "      <td>-0.133116</td>\n",
       "      <td>0.283763</td>\n",
       "      <td>-0.837063</td>\n",
       "      <td>Q</td>\n",
       "    </tr>\n",
       "    <tr>\n",
       "      <th>5</th>\n",
       "      <td>1.817480</td>\n",
       "      <td>0.742273</td>\n",
       "      <td>0.419395</td>\n",
       "      <td>-2.251035</td>\n",
       "      <td>Q</td>\n",
       "    </tr>\n",
       "    <tr>\n",
       "      <th>6</th>\n",
       "      <td>-0.776764</td>\n",
       "      <td>0.935518</td>\n",
       "      <td>-0.332872</td>\n",
       "      <td>-1.875641</td>\n",
       "      <td>U</td>\n",
       "    </tr>\n",
       "    <tr>\n",
       "      <th>7</th>\n",
       "      <td>-0.913135</td>\n",
       "      <td>1.530624</td>\n",
       "      <td>-0.572657</td>\n",
       "      <td>0.477252</td>\n",
       "      <td>K</td>\n",
       "    </tr>\n",
       "    <tr>\n",
       "      <th>8</th>\n",
       "      <td>0.358480</td>\n",
       "      <td>-0.497572</td>\n",
       "      <td>-0.367016</td>\n",
       "      <td>0.507702</td>\n",
       "      <td>S</td>\n",
       "    </tr>\n",
       "    <tr>\n",
       "      <th>9</th>\n",
       "      <td>-1.740877</td>\n",
       "      <td>-1.160417</td>\n",
       "      <td>-1.637830</td>\n",
       "      <td>2.172201</td>\n",
       "      <td>G</td>\n",
       "    </tr>\n",
       "    <tr>\n",
       "      <th>10</th>\n",
       "      <td>0.240564</td>\n",
       "      <td>-0.328249</td>\n",
       "      <td>1.252155</td>\n",
       "      <td>1.072796</td>\n",
       "      <td>8</td>\n",
       "    </tr>\n",
       "    <tr>\n",
       "      <th>11</th>\n",
       "      <td>0.764018</td>\n",
       "      <td>1.165476</td>\n",
       "      <td>-0.639544</td>\n",
       "      <td>1.495258</td>\n",
       "      <td>R</td>\n",
       "    </tr>\n",
       "    <tr>\n",
       "      <th>12</th>\n",
       "      <td>0.571035</td>\n",
       "      <td>-0.310537</td>\n",
       "      <td>0.582437</td>\n",
       "      <td>-0.298765</td>\n",
       "      <td>1</td>\n",
       "    </tr>\n",
       "    <tr>\n",
       "      <th>13</th>\n",
       "      <td>2.317658</td>\n",
       "      <td>0.430710</td>\n",
       "      <td>-1.334216</td>\n",
       "      <td>0.199679</td>\n",
       "      <td>P</td>\n",
       "    </tr>\n",
       "    <tr>\n",
       "      <th>14</th>\n",
       "      <td>1.547771</td>\n",
       "      <td>-1.119753</td>\n",
       "      <td>-2.277634</td>\n",
       "      <td>0.329586</td>\n",
       "      <td>J</td>\n",
       "    </tr>\n",
       "    <tr>\n",
       "      <th>15</th>\n",
       "      <td>-1.310608</td>\n",
       "      <td>0.401719</td>\n",
       "      <td>-1.000987</td>\n",
       "      <td>1.156708</td>\n",
       "      <td>E</td>\n",
       "    </tr>\n",
       "    <tr>\n",
       "      <th>16</th>\n",
       "      <td>-0.088496</td>\n",
       "      <td>0.634712</td>\n",
       "      <td>0.153324</td>\n",
       "      <td>0.415335</td>\n",
       "      <td>B</td>\n",
       "    </tr>\n",
       "    <tr>\n",
       "      <th>17</th>\n",
       "      <td>-0.018663</td>\n",
       "      <td>-0.247487</td>\n",
       "      <td>-1.446522</td>\n",
       "      <td>0.750938</td>\n",
       "      <td>A</td>\n",
       "    </tr>\n",
       "    <tr>\n",
       "      <th>18</th>\n",
       "      <td>-0.070127</td>\n",
       "      <td>-1.579097</td>\n",
       "      <td>0.120892</td>\n",
       "      <td>0.671432</td>\n",
       "      <td>F</td>\n",
       "    </tr>\n",
       "    <tr>\n",
       "      <th>19</th>\n",
       "      <td>-0.194678</td>\n",
       "      <td>-0.492039</td>\n",
       "      <td>2.359605</td>\n",
       "      <td>0.319810</td>\n",
       "      <td>H</td>\n",
       "    </tr>\n",
       "    <tr>\n",
       "      <th>20</th>\n",
       "      <td>-0.248618</td>\n",
       "      <td>0.868707</td>\n",
       "      <td>-0.492226</td>\n",
       "      <td>-0.717959</td>\n",
       "      <td>W</td>\n",
       "    </tr>\n",
       "    <tr>\n",
       "      <th>21</th>\n",
       "      <td>-1.091549</td>\n",
       "      <td>-0.867110</td>\n",
       "      <td>-0.647760</td>\n",
       "      <td>-0.832562</td>\n",
       "      <td>C</td>\n",
       "    </tr>\n",
       "    <tr>\n",
       "      <th>22</th>\n",
       "      <td>0.641404</td>\n",
       "      <td>-0.138822</td>\n",
       "      <td>-0.621963</td>\n",
       "      <td>-0.284839</td>\n",
       "      <td>C</td>\n",
       "    </tr>\n",
       "    <tr>\n",
       "      <th>23</th>\n",
       "      <td>1.216408</td>\n",
       "      <td>0.992687</td>\n",
       "      <td>0.165162</td>\n",
       "      <td>-0.069619</td>\n",
       "      <td>V</td>\n",
       "    </tr>\n",
       "    <tr>\n",
       "      <th>24</th>\n",
       "      <td>-0.564474</td>\n",
       "      <td>0.792832</td>\n",
       "      <td>0.747053</td>\n",
       "      <td>0.571675</td>\n",
       "      <td>I</td>\n",
       "    </tr>\n",
       "    <tr>\n",
       "      <th>25</th>\n",
       "      <td>1.759879</td>\n",
       "      <td>-0.515666</td>\n",
       "      <td>-0.230481</td>\n",
       "      <td>1.362317</td>\n",
       "      <td>S</td>\n",
       "    </tr>\n",
       "    <tr>\n",
       "      <th>26</th>\n",
       "      <td>0.126266</td>\n",
       "      <td>0.309281</td>\n",
       "      <td>0.382820</td>\n",
       "      <td>-0.239199</td>\n",
       "      <td>L</td>\n",
       "    </tr>\n",
       "    <tr>\n",
       "      <th>27</th>\n",
       "      <td>1.334360</td>\n",
       "      <td>-0.100152</td>\n",
       "      <td>-0.840731</td>\n",
       "      <td>-0.643967</td>\n",
       "      <td>6</td>\n",
       "    </tr>\n",
       "    <tr>\n",
       "      <th>28</th>\n",
       "      <td>-0.737620</td>\n",
       "      <td>0.278087</td>\n",
       "      <td>-0.053235</td>\n",
       "      <td>-0.950972</td>\n",
       "      <td>J</td>\n",
       "    </tr>\n",
       "    <tr>\n",
       "      <th>29</th>\n",
       "      <td>-1.148486</td>\n",
       "      <td>-0.986292</td>\n",
       "      <td>-0.144963</td>\n",
       "      <td>0.124362</td>\n",
       "      <td>Y</td>\n",
       "    </tr>\n",
       "    <tr>\n",
       "      <th>...</th>\n",
       "      <td>...</td>\n",
       "      <td>...</td>\n",
       "      <td>...</td>\n",
       "      <td>...</td>\n",
       "      <td>...</td>\n",
       "    </tr>\n",
       "    <tr>\n",
       "      <th>9970</th>\n",
       "      <td>0.633495</td>\n",
       "      <td>-0.186524</td>\n",
       "      <td>0.927627</td>\n",
       "      <td>0.143164</td>\n",
       "      <td>4</td>\n",
       "    </tr>\n",
       "    <tr>\n",
       "      <th>9971</th>\n",
       "      <td>0.308636</td>\n",
       "      <td>-0.112857</td>\n",
       "      <td>0.762842</td>\n",
       "      <td>-1.072977</td>\n",
       "      <td>1</td>\n",
       "    </tr>\n",
       "    <tr>\n",
       "      <th>9972</th>\n",
       "      <td>-1.627051</td>\n",
       "      <td>-0.978151</td>\n",
       "      <td>0.154745</td>\n",
       "      <td>-1.229037</td>\n",
       "      <td>Z</td>\n",
       "    </tr>\n",
       "    <tr>\n",
       "      <th>9973</th>\n",
       "      <td>0.314847</td>\n",
       "      <td>0.097989</td>\n",
       "      <td>0.199608</td>\n",
       "      <td>0.955193</td>\n",
       "      <td>P</td>\n",
       "    </tr>\n",
       "    <tr>\n",
       "      <th>9974</th>\n",
       "      <td>1.666907</td>\n",
       "      <td>0.992005</td>\n",
       "      <td>0.496128</td>\n",
       "      <td>-0.686391</td>\n",
       "      <td>S</td>\n",
       "    </tr>\n",
       "    <tr>\n",
       "      <th>9975</th>\n",
       "      <td>0.010603</td>\n",
       "      <td>0.708540</td>\n",
       "      <td>-1.258711</td>\n",
       "      <td>0.226541</td>\n",
       "      <td>K</td>\n",
       "    </tr>\n",
       "    <tr>\n",
       "      <th>9976</th>\n",
       "      <td>0.118693</td>\n",
       "      <td>-0.714455</td>\n",
       "      <td>-0.501342</td>\n",
       "      <td>-0.254764</td>\n",
       "      <td>K</td>\n",
       "    </tr>\n",
       "    <tr>\n",
       "      <th>9977</th>\n",
       "      <td>0.302616</td>\n",
       "      <td>-2.011527</td>\n",
       "      <td>-0.628085</td>\n",
       "      <td>0.768827</td>\n",
       "      <td>H</td>\n",
       "    </tr>\n",
       "    <tr>\n",
       "      <th>9978</th>\n",
       "      <td>-0.098572</td>\n",
       "      <td>1.769086</td>\n",
       "      <td>-0.215027</td>\n",
       "      <td>-0.053076</td>\n",
       "      <td>A</td>\n",
       "    </tr>\n",
       "    <tr>\n",
       "      <th>9979</th>\n",
       "      <td>-0.019058</td>\n",
       "      <td>1.964994</td>\n",
       "      <td>0.738538</td>\n",
       "      <td>-0.883776</td>\n",
       "      <td>F</td>\n",
       "    </tr>\n",
       "    <tr>\n",
       "      <th>9980</th>\n",
       "      <td>-0.595349</td>\n",
       "      <td>0.001781</td>\n",
       "      <td>-1.423355</td>\n",
       "      <td>-1.458477</td>\n",
       "      <td>M</td>\n",
       "    </tr>\n",
       "    <tr>\n",
       "      <th>9981</th>\n",
       "      <td>1.392170</td>\n",
       "      <td>-1.396560</td>\n",
       "      <td>-1.425306</td>\n",
       "      <td>-0.847535</td>\n",
       "      <td>H</td>\n",
       "    </tr>\n",
       "    <tr>\n",
       "      <th>9982</th>\n",
       "      <td>-0.896029</td>\n",
       "      <td>-0.152287</td>\n",
       "      <td>1.924483</td>\n",
       "      <td>0.365184</td>\n",
       "      <td>6</td>\n",
       "    </tr>\n",
       "    <tr>\n",
       "      <th>9983</th>\n",
       "      <td>-2.274642</td>\n",
       "      <td>-0.901874</td>\n",
       "      <td>1.500352</td>\n",
       "      <td>0.996541</td>\n",
       "      <td>N</td>\n",
       "    </tr>\n",
       "    <tr>\n",
       "      <th>9984</th>\n",
       "      <td>-0.301898</td>\n",
       "      <td>1.019906</td>\n",
       "      <td>1.102160</td>\n",
       "      <td>2.624526</td>\n",
       "      <td>I</td>\n",
       "    </tr>\n",
       "    <tr>\n",
       "      <th>9985</th>\n",
       "      <td>-2.548389</td>\n",
       "      <td>-0.585374</td>\n",
       "      <td>1.496201</td>\n",
       "      <td>-0.718815</td>\n",
       "      <td>D</td>\n",
       "    </tr>\n",
       "    <tr>\n",
       "      <th>9986</th>\n",
       "      <td>-0.064588</td>\n",
       "      <td>0.759292</td>\n",
       "      <td>-1.568415</td>\n",
       "      <td>-0.420933</td>\n",
       "      <td>E</td>\n",
       "    </tr>\n",
       "    <tr>\n",
       "      <th>9987</th>\n",
       "      <td>-0.143365</td>\n",
       "      <td>-1.111760</td>\n",
       "      <td>-1.815581</td>\n",
       "      <td>0.435274</td>\n",
       "      <td>2</td>\n",
       "    </tr>\n",
       "    <tr>\n",
       "      <th>9988</th>\n",
       "      <td>-0.070412</td>\n",
       "      <td>-1.055921</td>\n",
       "      <td>0.338017</td>\n",
       "      <td>-0.440763</td>\n",
       "      <td>X</td>\n",
       "    </tr>\n",
       "    <tr>\n",
       "      <th>9989</th>\n",
       "      <td>0.649148</td>\n",
       "      <td>0.994273</td>\n",
       "      <td>-1.384227</td>\n",
       "      <td>0.485120</td>\n",
       "      <td>Q</td>\n",
       "    </tr>\n",
       "    <tr>\n",
       "      <th>9990</th>\n",
       "      <td>-0.370769</td>\n",
       "      <td>0.404356</td>\n",
       "      <td>-1.051628</td>\n",
       "      <td>-1.050899</td>\n",
       "      <td>8</td>\n",
       "    </tr>\n",
       "    <tr>\n",
       "      <th>9991</th>\n",
       "      <td>-0.409980</td>\n",
       "      <td>0.155627</td>\n",
       "      <td>-0.818990</td>\n",
       "      <td>1.277350</td>\n",
       "      <td>W</td>\n",
       "    </tr>\n",
       "    <tr>\n",
       "      <th>9992</th>\n",
       "      <td>0.301214</td>\n",
       "      <td>-1.111203</td>\n",
       "      <td>0.668258</td>\n",
       "      <td>0.671922</td>\n",
       "      <td>A</td>\n",
       "    </tr>\n",
       "    <tr>\n",
       "      <th>9993</th>\n",
       "      <td>1.821117</td>\n",
       "      <td>0.416445</td>\n",
       "      <td>0.173874</td>\n",
       "      <td>0.505118</td>\n",
       "      <td>X</td>\n",
       "    </tr>\n",
       "    <tr>\n",
       "      <th>9994</th>\n",
       "      <td>0.068804</td>\n",
       "      <td>1.322759</td>\n",
       "      <td>0.802346</td>\n",
       "      <td>0.223618</td>\n",
       "      <td>H</td>\n",
       "    </tr>\n",
       "    <tr>\n",
       "      <th>9995</th>\n",
       "      <td>2.311896</td>\n",
       "      <td>-0.417070</td>\n",
       "      <td>-1.409599</td>\n",
       "      <td>-0.515821</td>\n",
       "      <td>L</td>\n",
       "    </tr>\n",
       "    <tr>\n",
       "      <th>9996</th>\n",
       "      <td>-0.479893</td>\n",
       "      <td>-0.650419</td>\n",
       "      <td>0.745152</td>\n",
       "      <td>-0.646038</td>\n",
       "      <td>E</td>\n",
       "    </tr>\n",
       "    <tr>\n",
       "      <th>9997</th>\n",
       "      <td>0.523331</td>\n",
       "      <td>0.787112</td>\n",
       "      <td>0.486066</td>\n",
       "      <td>1.093156</td>\n",
       "      <td>K</td>\n",
       "    </tr>\n",
       "    <tr>\n",
       "      <th>9998</th>\n",
       "      <td>-0.362559</td>\n",
       "      <td>0.598894</td>\n",
       "      <td>-1.843201</td>\n",
       "      <td>0.887292</td>\n",
       "      <td>G</td>\n",
       "    </tr>\n",
       "    <tr>\n",
       "      <th>9999</th>\n",
       "      <td>-0.096376</td>\n",
       "      <td>-1.012999</td>\n",
       "      <td>-0.657431</td>\n",
       "      <td>-0.573315</td>\n",
       "      <td>0</td>\n",
       "    </tr>\n",
       "  </tbody>\n",
       "</table>\n",
       "<p>10000 rows × 5 columns</p>\n",
       "</div>"
      ],
      "text/plain": [
       "           one       two     three      four key\n",
       "0     0.467976 -0.038649 -0.295344 -1.824726   L\n",
       "1    -0.358893  1.404453  0.704965 -0.200638   B\n",
       "2    -0.501840  0.659254 -0.421691 -0.057688   G\n",
       "3     0.204886  1.074134  1.388361 -0.982404   R\n",
       "4     0.354628 -0.133116  0.283763 -0.837063   Q\n",
       "5     1.817480  0.742273  0.419395 -2.251035   Q\n",
       "6    -0.776764  0.935518 -0.332872 -1.875641   U\n",
       "7    -0.913135  1.530624 -0.572657  0.477252   K\n",
       "8     0.358480 -0.497572 -0.367016  0.507702   S\n",
       "9    -1.740877 -1.160417 -1.637830  2.172201   G\n",
       "10    0.240564 -0.328249  1.252155  1.072796   8\n",
       "11    0.764018  1.165476 -0.639544  1.495258   R\n",
       "12    0.571035 -0.310537  0.582437 -0.298765   1\n",
       "13    2.317658  0.430710 -1.334216  0.199679   P\n",
       "14    1.547771 -1.119753 -2.277634  0.329586   J\n",
       "15   -1.310608  0.401719 -1.000987  1.156708   E\n",
       "16   -0.088496  0.634712  0.153324  0.415335   B\n",
       "17   -0.018663 -0.247487 -1.446522  0.750938   A\n",
       "18   -0.070127 -1.579097  0.120892  0.671432   F\n",
       "19   -0.194678 -0.492039  2.359605  0.319810   H\n",
       "20   -0.248618  0.868707 -0.492226 -0.717959   W\n",
       "21   -1.091549 -0.867110 -0.647760 -0.832562   C\n",
       "22    0.641404 -0.138822 -0.621963 -0.284839   C\n",
       "23    1.216408  0.992687  0.165162 -0.069619   V\n",
       "24   -0.564474  0.792832  0.747053  0.571675   I\n",
       "25    1.759879 -0.515666 -0.230481  1.362317   S\n",
       "26    0.126266  0.309281  0.382820 -0.239199   L\n",
       "27    1.334360 -0.100152 -0.840731 -0.643967   6\n",
       "28   -0.737620  0.278087 -0.053235 -0.950972   J\n",
       "29   -1.148486 -0.986292 -0.144963  0.124362   Y\n",
       "...        ...       ...       ...       ...  ..\n",
       "9970  0.633495 -0.186524  0.927627  0.143164   4\n",
       "9971  0.308636 -0.112857  0.762842 -1.072977   1\n",
       "9972 -1.627051 -0.978151  0.154745 -1.229037   Z\n",
       "9973  0.314847  0.097989  0.199608  0.955193   P\n",
       "9974  1.666907  0.992005  0.496128 -0.686391   S\n",
       "9975  0.010603  0.708540 -1.258711  0.226541   K\n",
       "9976  0.118693 -0.714455 -0.501342 -0.254764   K\n",
       "9977  0.302616 -2.011527 -0.628085  0.768827   H\n",
       "9978 -0.098572  1.769086 -0.215027 -0.053076   A\n",
       "9979 -0.019058  1.964994  0.738538 -0.883776   F\n",
       "9980 -0.595349  0.001781 -1.423355 -1.458477   M\n",
       "9981  1.392170 -1.396560 -1.425306 -0.847535   H\n",
       "9982 -0.896029 -0.152287  1.924483  0.365184   6\n",
       "9983 -2.274642 -0.901874  1.500352  0.996541   N\n",
       "9984 -0.301898  1.019906  1.102160  2.624526   I\n",
       "9985 -2.548389 -0.585374  1.496201 -0.718815   D\n",
       "9986 -0.064588  0.759292 -1.568415 -0.420933   E\n",
       "9987 -0.143365 -1.111760 -1.815581  0.435274   2\n",
       "9988 -0.070412 -1.055921  0.338017 -0.440763   X\n",
       "9989  0.649148  0.994273 -1.384227  0.485120   Q\n",
       "9990 -0.370769  0.404356 -1.051628 -1.050899   8\n",
       "9991 -0.409980  0.155627 -0.818990  1.277350   W\n",
       "9992  0.301214 -1.111203  0.668258  0.671922   A\n",
       "9993  1.821117  0.416445  0.173874  0.505118   X\n",
       "9994  0.068804  1.322759  0.802346  0.223618   H\n",
       "9995  2.311896 -0.417070 -1.409599 -0.515821   L\n",
       "9996 -0.479893 -0.650419  0.745152 -0.646038   E\n",
       "9997  0.523331  0.787112  0.486066  1.093156   K\n",
       "9998 -0.362559  0.598894 -1.843201  0.887292   G\n",
       "9999 -0.096376 -1.012999 -0.657431 -0.573315   0\n",
       "\n",
       "[10000 rows x 5 columns]"
      ]
     },
     "execution_count": 606,
     "metadata": {},
     "output_type": "execute_result"
    }
   ],
   "source": [
    "result = pd.read_csv('https://raw.githubusercontent.com/pydata/pydata-book/master/ch06/ex6.csv')\n",
    "result"
   ]
  },
  {
   "cell_type": "code",
   "execution_count": 607,
   "metadata": {
    "collapsed": false
   },
   "outputs": [
    {
     "data": {
      "text/html": [
       "<div>\n",
       "<table border=\"1\" class=\"dataframe\">\n",
       "  <thead>\n",
       "    <tr style=\"text-align: right;\">\n",
       "      <th></th>\n",
       "      <th>one</th>\n",
       "      <th>two</th>\n",
       "      <th>three</th>\n",
       "      <th>four</th>\n",
       "      <th>key</th>\n",
       "    </tr>\n",
       "  </thead>\n",
       "  <tbody>\n",
       "    <tr>\n",
       "      <th>0</th>\n",
       "      <td>0.467976</td>\n",
       "      <td>-0.038649</td>\n",
       "      <td>-0.295344</td>\n",
       "      <td>-1.824726</td>\n",
       "      <td>L</td>\n",
       "    </tr>\n",
       "    <tr>\n",
       "      <th>1</th>\n",
       "      <td>-0.358893</td>\n",
       "      <td>1.404453</td>\n",
       "      <td>0.704965</td>\n",
       "      <td>-0.200638</td>\n",
       "      <td>B</td>\n",
       "    </tr>\n",
       "    <tr>\n",
       "      <th>2</th>\n",
       "      <td>-0.501840</td>\n",
       "      <td>0.659254</td>\n",
       "      <td>-0.421691</td>\n",
       "      <td>-0.057688</td>\n",
       "      <td>G</td>\n",
       "    </tr>\n",
       "    <tr>\n",
       "      <th>3</th>\n",
       "      <td>0.204886</td>\n",
       "      <td>1.074134</td>\n",
       "      <td>1.388361</td>\n",
       "      <td>-0.982404</td>\n",
       "      <td>R</td>\n",
       "    </tr>\n",
       "    <tr>\n",
       "      <th>4</th>\n",
       "      <td>0.354628</td>\n",
       "      <td>-0.133116</td>\n",
       "      <td>0.283763</td>\n",
       "      <td>-0.837063</td>\n",
       "      <td>Q</td>\n",
       "    </tr>\n",
       "  </tbody>\n",
       "</table>\n",
       "</div>"
      ],
      "text/plain": [
       "        one       two     three      four key\n",
       "0  0.467976 -0.038649 -0.295344 -1.824726   L\n",
       "1 -0.358893  1.404453  0.704965 -0.200638   B\n",
       "2 -0.501840  0.659254 -0.421691 -0.057688   G\n",
       "3  0.204886  1.074134  1.388361 -0.982404   R\n",
       "4  0.354628 -0.133116  0.283763 -0.837063   Q"
      ]
     },
     "execution_count": 607,
     "metadata": {},
     "output_type": "execute_result"
    }
   ],
   "source": [
    "pd.read_csv('https://raw.githubusercontent.com/pydata/pydata-book/master/ch06/ex6.csv', nrows=5)\n",
    "#nrows 옵션을 주어 첫 몇줄만 읽어오도록"
   ]
  },
  {
   "cell_type": "markdown",
   "metadata": {},
   "source": [
    "- 파일을 여러 조각에 나누어서 읽고 싶다면 chunksize 옵션으로 로우의 개수를 주면 된다."
   ]
  },
  {
   "cell_type": "code",
   "execution_count": 608,
   "metadata": {
    "collapsed": true
   },
   "outputs": [],
   "source": [
    "from pandas import Series, DataFrame"
   ]
  },
  {
   "cell_type": "code",
   "execution_count": 609,
   "metadata": {
    "collapsed": false
   },
   "outputs": [
    {
     "data": {
      "text/plain": [
       "<pandas.io.parsers.TextFileReader at 0x114e26dd0>"
      ]
     },
     "execution_count": 609,
     "metadata": {},
     "output_type": "execute_result"
    }
   ],
   "source": [
    "chunker = pd.read_csv('https://raw.githubusercontent.com/pydata/pydata-book/master/ch06/ex6.csv', chunksize=1000)\n",
    "chunker"
   ]
  },
  {
   "cell_type": "code",
   "execution_count": 610,
   "metadata": {
    "collapsed": false
   },
   "outputs": [],
   "source": [
    "chunker = pd.read_csv('https://raw.githubusercontent.com/pydata/pydata-book/master/ch06/ex6.csv', chunksize=1000)\n",
    "\n",
    "#chunker의 DataFrame에서 key칼람의 값들을 count하여 tot 시리즈에 저장하도록, 비어있는 경우 0으로 값을 채운다.\n",
    "tot = Series([])\n",
    "for piece in chunker:\n",
    "    tot = tot.add(piece['key'].value_counts(), fill_value=0)\n",
    "    \n",
    "tot = tot.order(ascending=False)"
   ]
  },
  {
   "cell_type": "code",
   "execution_count": 611,
   "metadata": {
    "collapsed": false
   },
   "outputs": [
    {
     "data": {
      "text/plain": [
       "E    368\n",
       "X    364\n",
       "L    346\n",
       "O    343\n",
       "Q    340\n",
       "M    338\n",
       "J    337\n",
       "F    335\n",
       "K    334\n",
       "H    330\n",
       "dtype: float64"
      ]
     },
     "execution_count": 611,
     "metadata": {},
     "output_type": "execute_result"
    }
   ],
   "source": [
    "tot[:10]   #처음부터 10개까지만"
   ]
  },
  {
   "cell_type": "code",
   "execution_count": null,
   "metadata": {
    "collapsed": true
   },
   "outputs": [],
   "source": []
  },
  {
   "cell_type": "markdown",
   "metadata": {},
   "source": [
    "### 2) 데이터를 텍스트 형식으로 기록하기"
   ]
  },
  {
   "cell_type": "code",
   "execution_count": 612,
   "metadata": {
    "collapsed": false
   },
   "outputs": [
    {
     "data": {
      "text/html": [
       "<div>\n",
       "<table border=\"1\" class=\"dataframe\">\n",
       "  <thead>\n",
       "    <tr style=\"text-align: right;\">\n",
       "      <th></th>\n",
       "      <th>something</th>\n",
       "      <th>a</th>\n",
       "      <th>b</th>\n",
       "      <th>c</th>\n",
       "      <th>d</th>\n",
       "      <th>message</th>\n",
       "    </tr>\n",
       "  </thead>\n",
       "  <tbody>\n",
       "    <tr>\n",
       "      <th>0</th>\n",
       "      <td>one</td>\n",
       "      <td>1</td>\n",
       "      <td>2</td>\n",
       "      <td>3</td>\n",
       "      <td>4</td>\n",
       "      <td>NaN</td>\n",
       "    </tr>\n",
       "    <tr>\n",
       "      <th>1</th>\n",
       "      <td>two</td>\n",
       "      <td>5</td>\n",
       "      <td>6</td>\n",
       "      <td>NaN</td>\n",
       "      <td>8</td>\n",
       "      <td>world</td>\n",
       "    </tr>\n",
       "    <tr>\n",
       "      <th>2</th>\n",
       "      <td>three</td>\n",
       "      <td>9</td>\n",
       "      <td>10</td>\n",
       "      <td>11</td>\n",
       "      <td>12</td>\n",
       "      <td>foo</td>\n",
       "    </tr>\n",
       "  </tbody>\n",
       "</table>\n",
       "</div>"
      ],
      "text/plain": [
       "  something  a   b   c   d message\n",
       "0       one  1   2   3   4     NaN\n",
       "1       two  5   6 NaN   8   world\n",
       "2     three  9  10  11  12     foo"
      ]
     },
     "execution_count": 612,
     "metadata": {},
     "output_type": "execute_result"
    }
   ],
   "source": [
    "data = pd.read_csv('https://raw.githubusercontent.com/pydata/pydata-book/master/ch06/ex5.csv')\n",
    "data"
   ]
  },
  {
   "cell_type": "markdown",
   "metadata": {},
   "source": [
    "- DataFrame의 to_csv 메서드를 이용하여 쉼표로 구분된 형식으로 데이터를 파일로 쓸 수 있다."
   ]
  },
  {
   "cell_type": "code",
   "execution_count": 613,
   "metadata": {
    "collapsed": true
   },
   "outputs": [],
   "source": [
    "data.to_csv('ch06/out.csv')"
   ]
  },
  {
   "cell_type": "code",
   "execution_count": 614,
   "metadata": {
    "collapsed": false
   },
   "outputs": [
    {
     "name": "stdout",
     "output_type": "stream",
     "text": [
      ",something,a,b,c,d,message\r\n",
      "0,one,1,2,3.0,4,\r\n",
      "1,two,5,6,,8,world\r\n",
      "2,three,9,10,11.0,12,foo\r\n"
     ]
    }
   ],
   "source": [
    "!cat ch06/out.csv"
   ]
  },
  {
   "cell_type": "markdown",
   "metadata": {},
   "source": [
    "- 다른 문자로도 구분이 가능"
   ]
  },
  {
   "cell_type": "code",
   "execution_count": 615,
   "metadata": {
    "collapsed": true
   },
   "outputs": [],
   "source": [
    "import sys"
   ]
  },
  {
   "cell_type": "code",
   "execution_count": 616,
   "metadata": {
    "collapsed": false
   },
   "outputs": [
    {
     "name": "stdout",
     "output_type": "stream",
     "text": [
      "|something|a|b|c|d|message\n",
      "0|one|1|2|3.0|4|\n",
      "1|two|5|6||8|world\n",
      "2|three|9|10|11.0|12|foo\n"
     ]
    }
   ],
   "source": [
    "data.to_csv(sys.stdout, sep='|')   #콘솔에서 확인할 수 있도록 실제 파일로 기록하지 않고 sys.stdout에 결과를 기록하도록 했다."
   ]
  },
  {
   "cell_type": "code",
   "execution_count": 617,
   "metadata": {
    "collapsed": false
   },
   "outputs": [
    {
     "name": "stdout",
     "output_type": "stream",
     "text": [
      ",something,a,b,c,d,message\n",
      "0,one,1,2,3.0,4,NULL\n",
      "1,two,5,6,NULL,8,world\n",
      "2,three,9,10,11.0,12,foo\n"
     ]
    }
   ],
   "source": [
    "data.to_csv(sys.stdout, na_rep='NULL')   #누락된 값은 비어있는 문자열로 나타내도록 한다."
   ]
  },
  {
   "cell_type": "markdown",
   "metadata": {},
   "source": [
    "- 다른 옵션이 명시되지 않으면 로우나 칼럼의 이름도 함께 기록, 로우와 칼럼의 이름을 포함하지 않으려면 다음과 같이 사용"
   ]
  },
  {
   "cell_type": "code",
   "execution_count": 618,
   "metadata": {
    "collapsed": false
   },
   "outputs": [
    {
     "name": "stdout",
     "output_type": "stream",
     "text": [
      "one,1,2,3.0,4,\n",
      "two,5,6,,8,world\n",
      "three,9,10,11.0,12,foo\n"
     ]
    }
   ],
   "source": [
    "data.to_csv(sys.stdout, index=False, header=False)    #칼럼과 로우가 안보이는것을 볼 수 있다."
   ]
  },
  {
   "cell_type": "code",
   "execution_count": 619,
   "metadata": {
    "collapsed": false
   },
   "outputs": [
    {
     "name": "stdout",
     "output_type": "stream",
     "text": [
      "a,b,c\n",
      "1,2,3.0\n",
      "5,6,\n",
      "9,10,11.0\n"
     ]
    }
   ],
   "source": [
    "data.to_csv(sys.stdout, index=False, columns=['a', 'b', 'c'])   #칼럼의 일부분만 기록할 수도 있고, 순서를 직접 지정할 수도 있다."
   ]
  },
  {
   "cell_type": "markdown",
   "metadata": {},
   "source": [
    "- Series에도 to_csv메서드가 있다."
   ]
  },
  {
   "cell_type": "code",
   "execution_count": 620,
   "metadata": {
    "collapsed": false
   },
   "outputs": [],
   "source": [
    "dates = pd.date_range('1/1/2000', periods=7)   #date_range메서드를 이용하여 시간을 기록하는 tseries를 생성\n",
    "ts = Series(np.arange(7), index=dates)         #인덱스를 날짜로 하고 0~6까지의 수가 들어간 ts시리즈를 생성   \n",
    "ts.to_csv('ch06/tseries.csv')"
   ]
  },
  {
   "cell_type": "code",
   "execution_count": 621,
   "metadata": {
    "collapsed": false
   },
   "outputs": [
    {
     "name": "stdout",
     "output_type": "stream",
     "text": [
      "2000-01-01,0\r\n",
      "2000-01-02,1\r\n",
      "2000-01-03,2\r\n",
      "2000-01-04,3\r\n",
      "2000-01-05,4\r\n",
      "2000-01-06,5\r\n",
      "2000-01-07,6\r\n"
     ]
    }
   ],
   "source": [
    "!cat ch06/tseries.csv"
   ]
  },
  {
   "cell_type": "markdown",
   "metadata": {},
   "source": [
    "- 헤더를 없애고 첫 번째 칼럼을 색인으로 하면 read_csv 메서드로 Series 객체를 얻을 수 있다.\n",
    "- from_csv 메서드가 좀 더 편리하고 간단하게 문제를 해결해 준다."
   ]
  },
  {
   "cell_type": "code",
   "execution_count": 622,
   "metadata": {
    "collapsed": false
   },
   "outputs": [
    {
     "data": {
      "text/plain": [
       "2000-01-01    0\n",
       "2000-01-02    1\n",
       "2000-01-03    2\n",
       "2000-01-04    3\n",
       "2000-01-05    4\n",
       "2000-01-06    5\n",
       "2000-01-07    6\n",
       "dtype: int64"
      ]
     },
     "execution_count": 622,
     "metadata": {},
     "output_type": "execute_result"
    }
   ],
   "source": [
    "Series.from_csv('ch06/tseries.csv', parse_dates=True)   #parse_dates?"
   ]
  },
  {
   "cell_type": "code",
   "execution_count": null,
   "metadata": {
    "collapsed": false
   },
   "outputs": [],
   "source": []
  },
  {
   "cell_type": "markdown",
   "metadata": {},
   "source": [
    "### 3) 수동으로 구분 형식 처리하기"
   ]
  },
  {
   "cell_type": "markdown",
   "metadata": {},
   "source": [
    "- 대부분의 데이터는 read_table 같은 함수를 이요해서 읽어 올 수 있다.\n",
    "- 간혹 수동으로 처리해야 하는 경우도 발생"
   ]
  },
  {
   "cell_type": "code",
   "execution_count": 623,
   "metadata": {
    "collapsed": false
   },
   "outputs": [
    {
     "data": {
      "text/plain": [
       "['\"a\",\"b\",\"c\"\\n', '\"1\",\"2\",\"3\"\\n', '\"1\",\"2\",\"3\",\"4\"\\n']"
      ]
     },
     "execution_count": 623,
     "metadata": {},
     "output_type": "execute_result"
    }
   ],
   "source": [
    "list(urllib.urlopen('https://raw.githubusercontent.com/pydata/pydata-book/master/ch06/ex7.csv'))"
   ]
  },
  {
   "cell_type": "markdown",
   "metadata": {},
   "source": [
    "- 구분자가 한 글자인 파일은 파있너 내장 csv 모듈을 이용해서 처리할 수 있는데, 열려진 파일 객체를 csv.reader 함수에 넘기기만 하면 된다."
   ]
  },
  {
   "cell_type": "code",
   "execution_count": 624,
   "metadata": {
    "collapsed": false
   },
   "outputs": [],
   "source": [
    "import csv\n",
    "f = urllib.urlopen('https://raw.githubusercontent.com/pydata/pydata-book/master/ch06/ex7.csv')\n",
    "\n",
    "reader = csv.reader(f)"
   ]
  },
  {
   "cell_type": "code",
   "execution_count": 625,
   "metadata": {
    "collapsed": false
   },
   "outputs": [
    {
     "data": {
      "text/plain": [
       "_csv.reader"
      ]
     },
     "execution_count": 625,
     "metadata": {},
     "output_type": "execute_result"
    }
   ],
   "source": [
    "type(reader)"
   ]
  },
  {
   "cell_type": "code",
   "execution_count": 626,
   "metadata": {
    "collapsed": false
   },
   "outputs": [
    {
     "name": "stdout",
     "output_type": "stream",
     "text": [
      "['a', 'b', 'c']\n",
      "['1', '2', '3']\n",
      "['1', '2', '3', '4']\n"
     ]
    }
   ],
   "source": [
    "for line in reader:\n",
    "    print line        #reader의 각 라인별로 읽어오기"
   ]
  },
  {
   "cell_type": "code",
   "execution_count": 627,
   "metadata": {
    "collapsed": true
   },
   "outputs": [],
   "source": [
    "lines = list(csv.reader(urllib.urlopen('https://raw.githubusercontent.com/pydata/pydata-book/master/ch06/ex7.csv')))"
   ]
  },
  {
   "cell_type": "code",
   "execution_count": 628,
   "metadata": {
    "collapsed": true
   },
   "outputs": [],
   "source": [
    "header, values = lines[0], lines[1:]   #해당 파일을 reader 메서드로 읽어오고, lines 리스트에 각 줄을 저장, 첫번째는 header 나머지 줄은 값"
   ]
  },
  {
   "cell_type": "code",
   "execution_count": 629,
   "metadata": {
    "collapsed": false
   },
   "outputs": [
    {
     "data": {
      "text/plain": [
       "{'a': ('1', '1'), 'b': ('2', '2'), 'c': ('3', '3')}"
      ]
     },
     "execution_count": 629,
     "metadata": {},
     "output_type": "execute_result"
    }
   ],
   "source": [
    "data_dict = {h: v for h, v in zip(header, zip(*values))}\n",
    "data_dict"
   ]
  },
  {
   "cell_type": "code",
   "execution_count": 630,
   "metadata": {
    "collapsed": false
   },
   "outputs": [],
   "source": [
    "class my_dialect(csv.Dialect):\n",
    "    lineterminator = '\\n'\n",
    "    delimiter = ';'\n",
    "    quotechar = '\"'\n",
    "    quoting = csv.QUOTE_MINIMAL"
   ]
  },
  {
   "cell_type": "code",
   "execution_count": 631,
   "metadata": {
    "collapsed": true
   },
   "outputs": [],
   "source": [
    "with open('ch06/mydata.csv', 'w') as f:\n",
    "    writer = csv.writer(f, dialect=my_dialect)\n",
    "    writer.writerow(('one', 'two', 'three'))\n",
    "    writer.writerow(('1', '2', '3'))\n",
    "    writer.writerow(('4', '5', '6'))\n",
    "    writer.writerow(('7', '8', '9'))"
   ]
  },
  {
   "cell_type": "code",
   "execution_count": 632,
   "metadata": {
    "collapsed": false
   },
   "outputs": [
    {
     "name": "stdout",
     "output_type": "stream",
     "text": [
      "one;two;three\r\n",
      "1;2;3\r\n",
      "4;5;6\r\n",
      "7;8;9\r\n"
     ]
    }
   ],
   "source": [
    "!cat ch06/mydata.csv"
   ]
  },
  {
   "cell_type": "code",
   "execution_count": null,
   "metadata": {
    "collapsed": true
   },
   "outputs": [],
   "source": []
  },
  {
   "cell_type": "markdown",
   "metadata": {},
   "source": [
    "### 4) JSON 데이터"
   ]
  },
  {
   "cell_type": "code",
   "execution_count": 633,
   "metadata": {
    "collapsed": true
   },
   "outputs": [],
   "source": [
    "obj = \"\"\"\n",
    "{\"name\": \"Wes\",\n",
    " \"places_lived\": [\"United States\", \"Spain\", \"Germany\"],\n",
    " \"pet\": null,\n",
    " \"siblings\": [{\"name\": \"Scott\", \"age\": 25, \"pet\": \"Zuko\"},\n",
    "              {\"name\": \"Katie\", \"age\": 33, \"pet\": \"Cisco\"}]\n",
    "}\n",
    "\"\"\""
   ]
  },
  {
   "cell_type": "markdown",
   "metadata": {},
   "source": [
    "- JSON은 널 값과 다른 몇 가지 사소한 주의사항을 제외하면 파있너 코드와 거의 유사\n",
    "- 기본 자료형 객체(사전), 배열(리스트), 문자열, 숫자, 불리언 그리고 널\n",
    "- 객체의 키는 반드시 문자열이어야 한다.\n",
    "- JSON 문자열을 파이썬 형태로 변환하기 위해서는 json.loads를 사용"
   ]
  },
  {
   "cell_type": "code",
   "execution_count": 634,
   "metadata": {
    "collapsed": true
   },
   "outputs": [],
   "source": [
    "import json"
   ]
  },
  {
   "cell_type": "code",
   "execution_count": 635,
   "metadata": {
    "collapsed": false
   },
   "outputs": [
    {
     "data": {
      "text/plain": [
       "{u'name': u'Wes',\n",
       " u'pet': None,\n",
       " u'places_lived': [u'United States', u'Spain', u'Germany'],\n",
       " u'siblings': [{u'age': 25, u'name': u'Scott', u'pet': u'Zuko'},\n",
       "  {u'age': 33, u'name': u'Katie', u'pet': u'Cisco'}]}"
      ]
     },
     "execution_count": 635,
     "metadata": {},
     "output_type": "execute_result"
    }
   ],
   "source": [
    "result = json.loads(obj)   #json.loads를 사용하여 obj의 json형태의 파일을 파이썬 형태로 변환하는 함수\n",
    "result"
   ]
  },
  {
   "cell_type": "markdown",
   "metadata": {},
   "source": [
    "- json.dumps는 파이썬 객체를 JSON 형태로 변환"
   ]
  },
  {
   "cell_type": "code",
   "execution_count": 636,
   "metadata": {
    "collapsed": false
   },
   "outputs": [
    {
     "data": {
      "text/plain": [
       "'{\"pet\": null, \"siblings\": [{\"pet\": \"Zuko\", \"age\": 25, \"name\": \"Scott\"}, {\"pet\": \"Cisco\", \"age\": 33, \"name\": \"Katie\"}], \"name\": \"Wes\", \"places_lived\": [\"United States\", \"Spain\", \"Germany\"]}'"
      ]
     },
     "execution_count": 636,
     "metadata": {},
     "output_type": "execute_result"
    }
   ],
   "source": [
    "asjson = json.dumps(result)\n",
    "asjson"
   ]
  },
  {
   "cell_type": "markdown",
   "metadata": {},
   "source": [
    "- JSON객체의 리스트를 DataFrame 생성자로 넘기고 필드를 선택할 수 있다."
   ]
  },
  {
   "cell_type": "code",
   "execution_count": 637,
   "metadata": {
    "collapsed": false
   },
   "outputs": [
    {
     "data": {
      "text/html": [
       "<div>\n",
       "<table border=\"1\" class=\"dataframe\">\n",
       "  <thead>\n",
       "    <tr style=\"text-align: right;\">\n",
       "      <th></th>\n",
       "      <th>name</th>\n",
       "      <th>age</th>\n",
       "    </tr>\n",
       "  </thead>\n",
       "  <tbody>\n",
       "    <tr>\n",
       "      <th>0</th>\n",
       "      <td>Scott</td>\n",
       "      <td>25</td>\n",
       "    </tr>\n",
       "    <tr>\n",
       "      <th>1</th>\n",
       "      <td>Katie</td>\n",
       "      <td>33</td>\n",
       "    </tr>\n",
       "  </tbody>\n",
       "</table>\n",
       "</div>"
      ],
      "text/plain": [
       "    name  age\n",
       "0  Scott   25\n",
       "1  Katie   33"
      ]
     },
     "execution_count": 637,
     "metadata": {},
     "output_type": "execute_result"
    }
   ],
   "source": [
    "#파이썬 형태로 변환한 result에서 siblings 부분의 내용을 DataFrame으로 생성\n",
    "siblings = DataFrame(result['siblings'], columns=['name', 'age'])\n",
    "siblings"
   ]
  },
  {
   "cell_type": "code",
   "execution_count": null,
   "metadata": {
    "collapsed": true
   },
   "outputs": [],
   "source": []
  },
  {
   "cell_type": "markdown",
   "metadata": {},
   "source": [
    "### 5) <font color=#ff0000>XML과 HTML: 웹 내용 긁어오기</font>"
   ]
  },
  {
   "cell_type": "markdown",
   "metadata": {},
   "source": [
    "- 먼저 HTML을 위한 lxml.html의 사용법을 살펴보고 그 다음 lxml.objectify를 이용해서 XML을 처리하는 방법을 알아본다.\n",
    "- 데이터를 가져올 URL을 확인하고 urllib2모듈을 사용해서 연 다음 lxml을 이용해서 다음과 같이 파싱"
   ]
  },
  {
   "cell_type": "code",
   "execution_count": 638,
   "metadata": {
    "collapsed": false
   },
   "outputs": [
    {
     "name": "stdout",
     "output_type": "stream",
     "text": [
      "<lxml.etree._ElementTree object at 0x114e18518>\n",
      "<Element html at 0x112d28050>\n"
     ]
    }
   ],
   "source": [
    "from lxml.html import parse\n",
    "from urllib2 import urlopen\n",
    "\n",
    "parsed = parse(urlopen('http://finance.yahoo.com/q/op?s=AAPL+Options'))   #APPLE Inc.의 주식 정보를  parsing하여 가져온다.\n",
    "\n",
    "doc = parsed.getroot()\n",
    "print parsed\n",
    "print doc"
   ]
  },
  {
   "cell_type": "markdown",
   "metadata": {},
   "source": [
    "- doc 객체에는 모든 HTML태그가 추출되어 있는데, 어떻게 동작하는지 간단히 살펴보기 위하여 HTML 문서에서 외부 연결 URL을 모두 찾아보기로 하자\n",
    "- 외부 연결 URL은 a 태그로 지정되어 있다. HTML 문서 최상위에 findall 메서드에 XPath(문서 질의 언어)를 넘겨서 해당 엘리먼트를 가져옴"
   ]
  },
  {
   "cell_type": "code",
   "execution_count": 639,
   "metadata": {
    "collapsed": false
   },
   "outputs": [
    {
     "data": {
      "text/plain": [
       "[<Element a at 0x1103d7578>,\n",
       " <Element a at 0x1103d74c8>,\n",
       " <Element a at 0x1103d72b8>,\n",
       " <Element a at 0x1103d7470>,\n",
       " <Element a at 0x1103d7050>]"
      ]
     },
     "execution_count": 639,
     "metadata": {},
     "output_type": "execute_result"
    }
   ],
   "source": [
    "links = doc.findall('.//a')\n",
    "links[15:20]"
   ]
  },
  {
   "cell_type": "markdown",
   "metadata": {},
   "source": [
    "- 이 객체는 HTML 엘리먼트를 표현하는 객체일 뿐이므로 URL과 링크 이름을 가져오려면 각 엘리먼트에 대해 get 메서드를 호출하여 URL을 얻음\n",
    "- text_content 메서드를 사용해서 링크이름을 가져옴"
   ]
  },
  {
   "cell_type": "code",
   "execution_count": 640,
   "metadata": {
    "collapsed": false
   },
   "outputs": [
    {
     "data": {
      "text/plain": [
       "<Element a at 0x113359f18>"
      ]
     },
     "execution_count": 640,
     "metadata": {},
     "output_type": "execute_result"
    }
   ],
   "source": [
    "lnk = links[28]\n",
    "lnk"
   ]
  },
  {
   "cell_type": "code",
   "execution_count": 641,
   "metadata": {
    "collapsed": false
   },
   "outputs": [
    {
     "data": {
      "text/plain": [
       "'https://autos.yahoo.com/'"
      ]
     },
     "execution_count": 641,
     "metadata": {},
     "output_type": "execute_result"
    }
   ],
   "source": [
    "lnk.get('href')"
   ]
  },
  {
   "cell_type": "code",
   "execution_count": 642,
   "metadata": {
    "collapsed": false
   },
   "outputs": [
    {
     "data": {
      "text/plain": [
       "'Autos'"
      ]
     },
     "execution_count": 642,
     "metadata": {},
     "output_type": "execute_result"
    }
   ],
   "source": [
    "lnk.text_content()"
   ]
  },
  {
   "cell_type": "code",
   "execution_count": 643,
   "metadata": {
    "collapsed": false
   },
   "outputs": [
    {
     "data": {
      "text/plain": [
       "['/q/op?s=AAPL&strike=142.00',\n",
       " '/q?s=AAPL150807P00142000',\n",
       " '/q/op?s=AAPL&strike=143.00',\n",
       " '/q?s=AAPL150807P00143000',\n",
       " '/q/op?s=AAPL&strike=145.00',\n",
       " '/q?s=AAPL150807P00145000',\n",
       " '/q/op?s=AAPL&strike=150.00',\n",
       " '/q?s=AAPL150807P00150000',\n",
       " '/q/op?s=AAPL&strike=155.00',\n",
       " '/q?s=AAPL150807P00155000']"
      ]
     },
     "execution_count": 643,
     "metadata": {},
     "output_type": "execute_result"
    }
   ],
   "source": [
    "urls = [lnk.get('href') for lnk in doc.findall('.//a')]    #외부 URL이 담겨져 있는 a 태그에서의 href에 해당하는 url 값들을 urls 저장\n",
    "urls[-10:]"
   ]
  },
  {
   "cell_type": "markdown",
   "metadata": {},
   "source": [
    "- 이제 찾고자 하는 table은 하니씩 확인해 볼 수 밖에 없다.\n",
    "- table마다 id 속성을 줘서 이 작업을 쉽게 할 수 있는데, 콜 데이터와 풋 데이터가 각각의 table에 들어가 있는 것을 찾아냄"
   ]
  },
  {
   "cell_type": "code",
   "execution_count": 644,
   "metadata": {
    "collapsed": false
   },
   "outputs": [],
   "source": [
    "tables = doc.findall('.//table')   #table 태그가 있는 값들을 tables에 저장,\n",
    "calls = tables[1]\n",
    "puts = tables[2]"
   ]
  },
  {
   "cell_type": "code",
   "execution_count": 645,
   "metadata": {
    "collapsed": false
   },
   "outputs": [],
   "source": [
    "rows = calls.findall('.//tr')   #calls에서 tr태그가 가지고 있는 값들을 저장"
   ]
  },
  {
   "cell_type": "code",
   "execution_count": 646,
   "metadata": {
    "collapsed": true
   },
   "outputs": [],
   "source": [
    "def _unpack(row, kind='td'):\n",
    "    elts = row.findall('.//%s' % kind)\n",
    "    return [val.text_content() for val in elts]"
   ]
  },
  {
   "cell_type": "code",
   "execution_count": 647,
   "metadata": {
    "collapsed": false
   },
   "outputs": [
    {
     "data": {
      "text/plain": [
       "[u'\\n                \\n                     Strike\\n                    \\n                        \\ue004\\n                        \\ue002\\n                    \\n                \\n                \\u2235 Filter\\n            ',\n",
       " 'Contract Name',\n",
       " u'\\n                \\n                    Last\\n                    \\n                        \\ue004\\n                        \\ue002\\n                    \\n                \\n            ',\n",
       " u'\\n                \\n                    Bid\\n                    \\n                        \\ue004\\n                        \\ue002\\n                    \\n                \\n            ',\n",
       " u'\\n                \\n                    Ask\\n                    \\n                        \\ue004\\n                        \\ue002\\n                    \\n                \\n            ',\n",
       " u'\\n                \\n                    Change\\n                    \\n                        \\ue004\\n                        \\ue002\\n                    \\n                \\n            ',\n",
       " u'\\n                \\n                    %Change\\n                    \\n                        \\ue004\\n                        \\ue002\\n                    \\n                \\n            ',\n",
       " u'\\n                \\n                    Volume\\n                    \\n                        \\ue004\\n                        \\ue002\\n                    \\n                \\n            ',\n",
       " u'\\n                \\n                    Open Interest\\n                    \\n                        \\ue004\\n                        \\ue002\\n                    \\n                \\n            ',\n",
       " u'\\n                \\n                    Implied Volatility\\n                    \\n                        \\ue004\\n                        \\ue002\\n                    \\n                \\n            ']"
      ]
     },
     "execution_count": 647,
     "metadata": {},
     "output_type": "execute_result"
    }
   ],
   "source": [
    "_unpack(rows[0], kind='th')"
   ]
  },
  {
   "cell_type": "code",
   "execution_count": 648,
   "metadata": {
    "collapsed": false
   },
   "outputs": [
    {
     "data": {
      "text/plain": [
       "[u'\\n                        \\n                            \\n                            \\u2715\\n                            [modify]\\n                        \\n                    ']"
      ]
     },
     "execution_count": 648,
     "metadata": {},
     "output_type": "execute_result"
    }
   ],
   "source": [
    "_unpack(rows[1], kind='td')"
   ]
  },
  {
   "cell_type": "markdown",
   "metadata": {},
   "source": [
    "- 지금까지의 살펴본 데이터를 모두 합쳐 DataFrame으로 변환\n",
    "- 숫자 데이터의 경우 적절하게 문자열 형식으로 저장되어 있으므로 변환이 필요\n",
    "- pandas의 TextParser 클래스가 있어 자동 형 변환을 적절히 수행이 가능"
   ]
  },
  {
   "cell_type": "code",
   "execution_count": 649,
   "metadata": {
    "collapsed": true
   },
   "outputs": [],
   "source": [
    "from pandas.io.parsers import TextParser\n",
    "\n",
    "def parse_options_data(table):\n",
    "    rows = table.findall('.//tr')\n",
    "    header = _unpack(rows[0], kind='th')\n",
    "    data = [_unpack(r) for r in rows[1:]]\n",
    "    return TextParser(data, names=header).get_chunk()"
   ]
  },
  {
   "cell_type": "code",
   "execution_count": 650,
   "metadata": {
    "collapsed": true
   },
   "outputs": [],
   "source": [
    "call_data = parse_options_data(calls)"
   ]
  },
  {
   "cell_type": "code",
   "execution_count": 651,
   "metadata": {
    "collapsed": true
   },
   "outputs": [],
   "source": [
    "put_data = parse_options_data(puts)"
   ]
  },
  {
   "cell_type": "code",
   "execution_count": 652,
   "metadata": {
    "collapsed": false
   },
   "outputs": [
    {
     "data": {
      "text/html": [
       "<div>\n",
       "<table border=\"1\" class=\"dataframe\">\n",
       "  <thead>\n",
       "    <tr style=\"text-align: right;\">\n",
       "      <th></th>\n",
       "      <th>Strike\n",
       "                    \n",
       "                        \n",
       "                        \n",
       "                    \n",
       "                \n",
       "                ∵ Filter</th>\n",
       "      <th>Contract Name</th>\n",
       "      <th>Last\n",
       "                    \n",
       "                        \n",
       "                        </th>\n",
       "      <th>Bid\n",
       "                    \n",
       "                        \n",
       "                        </th>\n",
       "      <th>Ask\n",
       "                    \n",
       "                        \n",
       "                        </th>\n",
       "      <th>Change\n",
       "                    \n",
       "                        \n",
       "                        </th>\n",
       "      <th>%Change\n",
       "                    \n",
       "                        \n",
       "                        </th>\n",
       "      <th>Volume\n",
       "                    \n",
       "                        \n",
       "                        </th>\n",
       "      <th>Open Interest\n",
       "                    \n",
       "                        \n",
       "                        </th>\n",
       "      <th>Implied Volatility\n",
       "                    \n",
       "                        \n",
       "                        </th>\n",
       "    </tr>\n",
       "  </thead>\n",
       "  <tbody>\n",
       "    <tr>\n",
       "      <th>0</th>\n",
       "      <td>\\n                        \\n                  ...</td>\n",
       "      <td>None</td>\n",
       "      <td>NaN</td>\n",
       "      <td>NaN</td>\n",
       "      <td>NaN</td>\n",
       "      <td>NaN</td>\n",
       "      <td>None</td>\n",
       "      <td>NaN</td>\n",
       "      <td>NaN</td>\n",
       "      <td>None</td>\n",
       "    </tr>\n",
       "    <tr>\n",
       "      <th>1</th>\n",
       "      <td>\\n            80.00\\n</td>\n",
       "      <td>\\n            AAPL150807C00080000\\n</td>\n",
       "      <td>35.75</td>\n",
       "      <td>0</td>\n",
       "      <td>0</td>\n",
       "      <td>0</td>\n",
       "      <td>\\n            \\n                0.00%\\n       ...</td>\n",
       "      <td>12</td>\n",
       "      <td>0</td>\n",
       "      <td>\\n            0.00%\\n</td>\n",
       "    </tr>\n",
       "    <tr>\n",
       "      <th>2</th>\n",
       "      <td>\\n            90.00\\n</td>\n",
       "      <td>\\n            AAPL150807C00090000\\n</td>\n",
       "      <td>25.60</td>\n",
       "      <td>0</td>\n",
       "      <td>0</td>\n",
       "      <td>0</td>\n",
       "      <td>\\n            \\n                0.00%\\n       ...</td>\n",
       "      <td>453</td>\n",
       "      <td>0</td>\n",
       "      <td>\\n            0.00%\\n</td>\n",
       "    </tr>\n",
       "    <tr>\n",
       "      <th>3</th>\n",
       "      <td>\\n            95.00\\n</td>\n",
       "      <td>\\n            AAPL150807C00095000\\n</td>\n",
       "      <td>20.70</td>\n",
       "      <td>0</td>\n",
       "      <td>0</td>\n",
       "      <td>0</td>\n",
       "      <td>\\n            \\n                0.00%\\n       ...</td>\n",
       "      <td>319</td>\n",
       "      <td>0</td>\n",
       "      <td>\\n            0.00%\\n</td>\n",
       "    </tr>\n",
       "    <tr>\n",
       "      <th>4</th>\n",
       "      <td>\\n            100.00\\n</td>\n",
       "      <td>\\n            AAPL150807C00100000\\n</td>\n",
       "      <td>15.40</td>\n",
       "      <td>0</td>\n",
       "      <td>0</td>\n",
       "      <td>0</td>\n",
       "      <td>\\n            \\n                0.00%\\n       ...</td>\n",
       "      <td>769</td>\n",
       "      <td>0</td>\n",
       "      <td>\\n            0.00%\\n</td>\n",
       "    </tr>\n",
       "    <tr>\n",
       "      <th>5</th>\n",
       "      <td>\\n            105.00\\n</td>\n",
       "      <td>\\n            AAPL150807C00105000\\n</td>\n",
       "      <td>10.80</td>\n",
       "      <td>0</td>\n",
       "      <td>0</td>\n",
       "      <td>0</td>\n",
       "      <td>\\n            \\n                0.00%\\n       ...</td>\n",
       "      <td>1106</td>\n",
       "      <td>0</td>\n",
       "      <td>\\n            0.00%\\n</td>\n",
       "    </tr>\n",
       "    <tr>\n",
       "      <th>6</th>\n",
       "      <td>\\n            107.00\\n</td>\n",
       "      <td>\\n            AAPL150807C00107000\\n</td>\n",
       "      <td>8.85</td>\n",
       "      <td>0</td>\n",
       "      <td>0</td>\n",
       "      <td>0</td>\n",
       "      <td>\\n            \\n                0.00%\\n       ...</td>\n",
       "      <td>1290</td>\n",
       "      <td>0</td>\n",
       "      <td>\\n            0.00%\\n</td>\n",
       "    </tr>\n",
       "    <tr>\n",
       "      <th>7</th>\n",
       "      <td>\\n            108.00\\n</td>\n",
       "      <td>\\n            AAPL150807C00108000\\n</td>\n",
       "      <td>7.42</td>\n",
       "      <td>0</td>\n",
       "      <td>0</td>\n",
       "      <td>0</td>\n",
       "      <td>\\n            \\n                0.00%\\n       ...</td>\n",
       "      <td>2012</td>\n",
       "      <td>0</td>\n",
       "      <td>\\n            0.00%\\n</td>\n",
       "    </tr>\n",
       "    <tr>\n",
       "      <th>8</th>\n",
       "      <td>\\n            109.00\\n</td>\n",
       "      <td>\\n            AAPL150807C00109000\\n</td>\n",
       "      <td>6.55</td>\n",
       "      <td>0</td>\n",
       "      <td>0</td>\n",
       "      <td>0</td>\n",
       "      <td>\\n            \\n                0.00%\\n       ...</td>\n",
       "      <td>1686</td>\n",
       "      <td>0</td>\n",
       "      <td>\\n            0.00%\\n</td>\n",
       "    </tr>\n",
       "    <tr>\n",
       "      <th>9</th>\n",
       "      <td>\\n            110.00\\n</td>\n",
       "      <td>\\n            AAPL150807C00110000\\n</td>\n",
       "      <td>5.35</td>\n",
       "      <td>0</td>\n",
       "      <td>0</td>\n",
       "      <td>0</td>\n",
       "      <td>\\n            \\n                0.00%\\n       ...</td>\n",
       "      <td>9155</td>\n",
       "      <td>0</td>\n",
       "      <td>\\n            0.00%\\n</td>\n",
       "    </tr>\n",
       "  </tbody>\n",
       "</table>\n",
       "</div>"
      ],
      "text/plain": [
       "  \\n                \\n                     Strike\\n                    \\n                        \\n                        \\n                    \\n                \\n                ∵ Filter\\n              \\\n",
       "0  \\n                        \\n                  ...                                                                                                                                                            \n",
       "1                      \\n            80.00\\n                                                                                                                                                                    \n",
       "2                      \\n            90.00\\n                                                                                                                                                                    \n",
       "3                      \\n            95.00\\n                                                                                                                                                                    \n",
       "4                     \\n            100.00\\n                                                                                                                                                                    \n",
       "5                     \\n            105.00\\n                                                                                                                                                                    \n",
       "6                     \\n            107.00\\n                                                                                                                                                                    \n",
       "7                     \\n            108.00\\n                                                                                                                                                                    \n",
       "8                     \\n            109.00\\n                                                                                                                                                                    \n",
       "9                     \\n            110.00\\n                                                                                                                                                                    \n",
       "\n",
       "                                 Contract Name  \\\n",
       "0                                         None   \n",
       "1  \\n            AAPL150807C00080000\\n           \n",
       "2  \\n            AAPL150807C00090000\\n           \n",
       "3  \\n            AAPL150807C00095000\\n           \n",
       "4  \\n            AAPL150807C00100000\\n           \n",
       "5  \\n            AAPL150807C00105000\\n           \n",
       "6  \\n            AAPL150807C00107000\\n           \n",
       "7  \\n            AAPL150807C00108000\\n           \n",
       "8  \\n            AAPL150807C00109000\\n           \n",
       "9  \\n            AAPL150807C00110000\\n           \n",
       "\n",
       "   \\n                \\n                    Last\\n                    \\n                        \\n                        \\n                    \\n                \\n              \\\n",
       "0                                                NaN                                                                                                                                \n",
       "1                                              35.75                                                                                                                                \n",
       "2                                              25.60                                                                                                                                \n",
       "3                                              20.70                                                                                                                                \n",
       "4                                              15.40                                                                                                                                \n",
       "5                                              10.80                                                                                                                                \n",
       "6                                               8.85                                                                                                                                \n",
       "7                                               7.42                                                                                                                                \n",
       "8                                               6.55                                                                                                                                \n",
       "9                                               5.35                                                                                                                                \n",
       "\n",
       "   \\n                \\n                    Bid\\n                    \\n                        \\n                        \\n                    \\n                \\n              \\\n",
       "0                                                NaN                                                                                                                               \n",
       "1                                                  0                                                                                                                               \n",
       "2                                                  0                                                                                                                               \n",
       "3                                                  0                                                                                                                               \n",
       "4                                                  0                                                                                                                               \n",
       "5                                                  0                                                                                                                               \n",
       "6                                                  0                                                                                                                               \n",
       "7                                                  0                                                                                                                               \n",
       "8                                                  0                                                                                                                               \n",
       "9                                                  0                                                                                                                               \n",
       "\n",
       "   \\n                \\n                    Ask\\n                    \\n                        \\n                        \\n                    \\n                \\n              \\\n",
       "0                                                NaN                                                                                                                               \n",
       "1                                                  0                                                                                                                               \n",
       "2                                                  0                                                                                                                               \n",
       "3                                                  0                                                                                                                               \n",
       "4                                                  0                                                                                                                               \n",
       "5                                                  0                                                                                                                               \n",
       "6                                                  0                                                                                                                               \n",
       "7                                                  0                                                                                                                               \n",
       "8                                                  0                                                                                                                               \n",
       "9                                                  0                                                                                                                               \n",
       "\n",
       "   \\n                \\n                    Change\\n                    \\n                        \\n                        \\n                    \\n                \\n              \\\n",
       "0                                                NaN                                                                                                                                  \n",
       "1                                                  0                                                                                                                                  \n",
       "2                                                  0                                                                                                                                  \n",
       "3                                                  0                                                                                                                                  \n",
       "4                                                  0                                                                                                                                  \n",
       "5                                                  0                                                                                                                                  \n",
       "6                                                  0                                                                                                                                  \n",
       "7                                                  0                                                                                                                                  \n",
       "8                                                  0                                                                                                                                  \n",
       "9                                                  0                                                                                                                                  \n",
       "\n",
       "  \\n                \\n                    %Change\\n                    \\n                        \\n                        \\n                    \\n                \\n              \\\n",
       "0                                               None                                                                                                                                  \n",
       "1  \\n            \\n                0.00%\\n       ...                                                                                                                                  \n",
       "2  \\n            \\n                0.00%\\n       ...                                                                                                                                  \n",
       "3  \\n            \\n                0.00%\\n       ...                                                                                                                                  \n",
       "4  \\n            \\n                0.00%\\n       ...                                                                                                                                  \n",
       "5  \\n            \\n                0.00%\\n       ...                                                                                                                                  \n",
       "6  \\n            \\n                0.00%\\n       ...                                                                                                                                  \n",
       "7  \\n            \\n                0.00%\\n       ...                                                                                                                                  \n",
       "8  \\n            \\n                0.00%\\n       ...                                                                                                                                  \n",
       "9  \\n            \\n                0.00%\\n       ...                                                                                                                                  \n",
       "\n",
       "   \\n                \\n                    Volume\\n                    \\n                        \\n                        \\n                    \\n                \\n              \\\n",
       "0                                                NaN                                                                                                                                  \n",
       "1                                                 12                                                                                                                                  \n",
       "2                                                453                                                                                                                                  \n",
       "3                                                319                                                                                                                                  \n",
       "4                                                769                                                                                                                                  \n",
       "5                                               1106                                                                                                                                  \n",
       "6                                               1290                                                                                                                                  \n",
       "7                                               2012                                                                                                                                  \n",
       "8                                               1686                                                                                                                                  \n",
       "9                                               9155                                                                                                                                  \n",
       "\n",
       "   \\n                \\n                    Open Interest\\n                    \\n                        \\n                        \\n                    \\n                \\n              \\\n",
       "0                                                NaN                                                                                                                                         \n",
       "1                                                  0                                                                                                                                         \n",
       "2                                                  0                                                                                                                                         \n",
       "3                                                  0                                                                                                                                         \n",
       "4                                                  0                                                                                                                                         \n",
       "5                                                  0                                                                                                                                         \n",
       "6                                                  0                                                                                                                                         \n",
       "7                                                  0                                                                                                                                         \n",
       "8                                                  0                                                                                                                                         \n",
       "9                                                  0                                                                                                                                         \n",
       "\n",
       "  \\n                \\n                    Implied Volatility\\n                    \\n                        \\n                        \\n                    \\n                \\n              \n",
       "0                                               None                                                                                                                                            \n",
       "1                      \\n            0.00%\\n                                                                                                                                                    \n",
       "2                      \\n            0.00%\\n                                                                                                                                                    \n",
       "3                      \\n            0.00%\\n                                                                                                                                                    \n",
       "4                      \\n            0.00%\\n                                                                                                                                                    \n",
       "5                      \\n            0.00%\\n                                                                                                                                                    \n",
       "6                      \\n            0.00%\\n                                                                                                                                                    \n",
       "7                      \\n            0.00%\\n                                                                                                                                                    \n",
       "8                      \\n            0.00%\\n                                                                                                                                                    \n",
       "9                      \\n            0.00%\\n                                                                                                                                                    "
      ]
     },
     "execution_count": 652,
     "metadata": {},
     "output_type": "execute_result"
    }
   ],
   "source": [
    "call_data[:10]"
   ]
  },
  {
   "cell_type": "markdown",
   "metadata": {},
   "source": [
    "### lxml.objectify 이용해 XML 파싱하기"
   ]
  },
  {
   "cell_type": "markdown",
   "metadata": {},
   "source": [
    "- 뉴욕 MTA는 버스와 전철 운영에 관한 여러가지 데이터를 공개\n",
    "- 해당 데이터를 받아 lxml.objectify를 이용하여 XML을 파싱"
   ]
  },
  {
   "cell_type": "code",
   "execution_count": 653,
   "metadata": {
    "collapsed": false
   },
   "outputs": [
    {
     "name": "stdout",
     "output_type": "stream",
     "text": [
      "/Users/hyunkyo/HK-PyDA/MTA_Performance_Datall\n",
      "<?xml version=\"1.0\" encoding=\"UTF-8\" standalone=\"yes\"?>\r",
      "\r\n",
      "<PERFORMANCE>\r",
      "\r\n",
      " <INDICATOR>\r",
      "\r\n",
      " <INDICATOR_SEQ>28345</INDICATOR_SEQ>\r",
      "\r\n",
      " <PARENT_SEQ>55526</PARENT_SEQ>\r",
      "\r\n",
      " <AGENCY_NAME>Metro-North Railroad</AGENCY_NAME>\r",
      "\r\n",
      " <INDICATOR_NAME>Hudson Line - OTP</INDICATOR_NAME>\r",
      "\r\n",
      " <DESCRIPTION>Percent of commuter trains that arrive at their destinations within 5 minutes and 59 seconds of the scheduled time.</DESCRIPTION>\r",
      "\r\n",
      " <CATEGORY>Service Indicators</CATEGORY>\r",
      "\r\n",
      " <FREQUENCY>M</FREQUENCY>\r",
      "\r\n",
      " <DESIRED_CHANGE>U</DESIRED_CHANGE>\r",
      "\r\n",
      " <INDICATOR_UNIT>%</INDICATOR_UNIT>\r",
      "\r\n",
      " <DECIMAL_PLACES>1</DECIMAL_PLACES>\r",
      "\r\n",
      " <YEAR>\r",
      "\r\n",
      "  <PERIOD_YEAR>2008</PERIOD_YEAR>\r",
      "\r\n",
      "    <MONTH>\r",
      "\r\n",
      "     <PERIOD_MONTH>1</PERIOD_MONTH>\r",
      "\r\n",
      "      <MONTHLYVALUES>\r",
      "\r\n",
      "       <YTD_TARGET>98.00</YTD_TARGET>\r",
      "\r\n",
      "       <YTD_ACTUAL>99.30</YTD_ACTUAL>\r",
      "\r\n",
      "       <MONTHLY_TARGET>98.00</MONTHLY_TARGET>\r",
      "\r\n"
     ]
    }
   ],
   "source": [
    "%cd MTA_Performance_Datall\n",
    "!head -21 Performance_MNRR.xml   #해당 폴더로 이동후, head에 관한 21줄을 출력"
   ]
  },
  {
   "cell_type": "code",
   "execution_count": 654,
   "metadata": {
    "collapsed": true
   },
   "outputs": [],
   "source": [
    "#해당 데이터를 lxml.objectify를 이용하여 파싱\n",
    "from lxml import objectify\n",
    "\n",
    "path = 'Performance_MNRR.xml'\n",
    "parsed = objectify.parse(open(path))\n",
    "root = parsed.getroot()   #현재 객체의 root를 얻어 root에 저장"
   ]
  },
  {
   "cell_type": "code",
   "execution_count": 655,
   "metadata": {
    "collapsed": false
   },
   "outputs": [],
   "source": [
    "data = []   #해당 데이터를 저장할 리스트를 생성\n",
    "\n",
    "skip_fields = ['PARENT_SEQ', 'INDICATOR_SEQ',\n",
    "               'DESIRED_CHANGE', 'DECIMAL_PLACES']   #스킵 할 필드의 리스트를 생성\n",
    "\n",
    "#파싱되어진 파일이 저장된 root에 INDICATOR을 각 줄마다 elt에 리스트로 저장, 스킷해도 되는 필드의 경우 지나치고\n",
    "#스킵할 것이 아닌 경우에는 해당 값을 data리스트에 추가 시킨다.\n",
    "for elt in root.INDICATOR:\n",
    "    el_data = {}\n",
    "    for child in elt.getchildren():   \n",
    "        if child.tag in skip_fields:\n",
    "            continue\n",
    "        el_data[child.tag] = child.values\n",
    "    data.append(el_data)"
   ]
  },
  {
   "cell_type": "code",
   "execution_count": 656,
   "metadata": {
    "collapsed": false,
    "scrolled": true
   },
   "outputs": [
    {
     "data": {
      "text/html": [
       "<div>\n",
       "<table border=\"1\" class=\"dataframe\">\n",
       "  <thead>\n",
       "    <tr style=\"text-align: right;\">\n",
       "      <th></th>\n",
       "      <th>AGENCY_NAME</th>\n",
       "      <th>CATEGORY</th>\n",
       "      <th>DESCRIPTION</th>\n",
       "      <th>FREQUENCY</th>\n",
       "      <th>INDICATOR_NAME</th>\n",
       "      <th>INDICATOR_UNIT</th>\n",
       "      <th>YEAR</th>\n",
       "    </tr>\n",
       "  </thead>\n",
       "  <tbody>\n",
       "    <tr>\n",
       "      <th>0</th>\n",
       "      <td>&lt;built-in method values of lxml.objectify.Stri...</td>\n",
       "      <td>&lt;built-in method values of lxml.objectify.Stri...</td>\n",
       "      <td>&lt;built-in method values of lxml.objectify.Stri...</td>\n",
       "      <td>&lt;built-in method values of lxml.objectify.Stri...</td>\n",
       "      <td>&lt;built-in method values of lxml.objectify.Stri...</td>\n",
       "      <td>&lt;built-in method values of lxml.objectify.Stri...</td>\n",
       "      <td>&lt;built-in method values of lxml.objectify.Obje...</td>\n",
       "    </tr>\n",
       "    <tr>\n",
       "      <th>1</th>\n",
       "      <td>&lt;built-in method values of lxml.objectify.Stri...</td>\n",
       "      <td>&lt;built-in method values of lxml.objectify.Stri...</td>\n",
       "      <td>&lt;built-in method values of lxml.objectify.Stri...</td>\n",
       "      <td>&lt;built-in method values of lxml.objectify.Stri...</td>\n",
       "      <td>&lt;built-in method values of lxml.objectify.Stri...</td>\n",
       "      <td>&lt;built-in method values of lxml.objectify.Stri...</td>\n",
       "      <td>&lt;built-in method values of lxml.objectify.Obje...</td>\n",
       "    </tr>\n",
       "    <tr>\n",
       "      <th>2</th>\n",
       "      <td>&lt;built-in method values of lxml.objectify.Stri...</td>\n",
       "      <td>&lt;built-in method values of lxml.objectify.Stri...</td>\n",
       "      <td>&lt;built-in method values of lxml.objectify.Stri...</td>\n",
       "      <td>&lt;built-in method values of lxml.objectify.Stri...</td>\n",
       "      <td>&lt;built-in method values of lxml.objectify.Stri...</td>\n",
       "      <td>&lt;built-in method values of lxml.objectify.Stri...</td>\n",
       "      <td>&lt;built-in method values of lxml.objectify.Obje...</td>\n",
       "    </tr>\n",
       "    <tr>\n",
       "      <th>3</th>\n",
       "      <td>&lt;built-in method values of lxml.objectify.Stri...</td>\n",
       "      <td>&lt;built-in method values of lxml.objectify.Stri...</td>\n",
       "      <td>&lt;built-in method values of lxml.objectify.Stri...</td>\n",
       "      <td>&lt;built-in method values of lxml.objectify.Stri...</td>\n",
       "      <td>&lt;built-in method values of lxml.objectify.Stri...</td>\n",
       "      <td>&lt;built-in method values of lxml.objectify.Stri...</td>\n",
       "      <td>&lt;built-in method values of lxml.objectify.Obje...</td>\n",
       "    </tr>\n",
       "    <tr>\n",
       "      <th>4</th>\n",
       "      <td>&lt;built-in method values of lxml.objectify.Stri...</td>\n",
       "      <td>&lt;built-in method values of lxml.objectify.Stri...</td>\n",
       "      <td>&lt;built-in method values of lxml.objectify.Stri...</td>\n",
       "      <td>&lt;built-in method values of lxml.objectify.Stri...</td>\n",
       "      <td>&lt;built-in method values of lxml.objectify.Stri...</td>\n",
       "      <td>&lt;built-in method values of lxml.objectify.Stri...</td>\n",
       "      <td>&lt;built-in method values of lxml.objectify.Obje...</td>\n",
       "    </tr>\n",
       "    <tr>\n",
       "      <th>5</th>\n",
       "      <td>&lt;built-in method values of lxml.objectify.Stri...</td>\n",
       "      <td>&lt;built-in method values of lxml.objectify.Stri...</td>\n",
       "      <td>&lt;built-in method values of lxml.objectify.Stri...</td>\n",
       "      <td>&lt;built-in method values of lxml.objectify.Stri...</td>\n",
       "      <td>&lt;built-in method values of lxml.objectify.Stri...</td>\n",
       "      <td>&lt;built-in method values of lxml.objectify.Stri...</td>\n",
       "      <td>&lt;built-in method values of lxml.objectify.Obje...</td>\n",
       "    </tr>\n",
       "    <tr>\n",
       "      <th>6</th>\n",
       "      <td>&lt;built-in method values of lxml.objectify.Stri...</td>\n",
       "      <td>&lt;built-in method values of lxml.objectify.Stri...</td>\n",
       "      <td>&lt;built-in method values of lxml.objectify.Stri...</td>\n",
       "      <td>&lt;built-in method values of lxml.objectify.Stri...</td>\n",
       "      <td>&lt;built-in method values of lxml.objectify.Stri...</td>\n",
       "      <td>&lt;built-in method values of lxml.objectify.Stri...</td>\n",
       "      <td>&lt;built-in method values of lxml.objectify.Obje...</td>\n",
       "    </tr>\n",
       "    <tr>\n",
       "      <th>7</th>\n",
       "      <td>&lt;built-in method values of lxml.objectify.Stri...</td>\n",
       "      <td>&lt;built-in method values of lxml.objectify.Stri...</td>\n",
       "      <td>&lt;built-in method values of lxml.objectify.Stri...</td>\n",
       "      <td>&lt;built-in method values of lxml.objectify.Stri...</td>\n",
       "      <td>&lt;built-in method values of lxml.objectify.Stri...</td>\n",
       "      <td>&lt;built-in method values of lxml.objectify.Stri...</td>\n",
       "      <td>&lt;built-in method values of lxml.objectify.Obje...</td>\n",
       "    </tr>\n",
       "    <tr>\n",
       "      <th>8</th>\n",
       "      <td>&lt;built-in method values of lxml.objectify.Stri...</td>\n",
       "      <td>&lt;built-in method values of lxml.objectify.Stri...</td>\n",
       "      <td>&lt;built-in method values of lxml.objectify.Stri...</td>\n",
       "      <td>&lt;built-in method values of lxml.objectify.Stri...</td>\n",
       "      <td>&lt;built-in method values of lxml.objectify.Stri...</td>\n",
       "      <td>&lt;built-in method values of lxml.objectify.Stri...</td>\n",
       "      <td>&lt;built-in method values of lxml.objectify.Obje...</td>\n",
       "    </tr>\n",
       "    <tr>\n",
       "      <th>9</th>\n",
       "      <td>&lt;built-in method values of lxml.objectify.Stri...</td>\n",
       "      <td>&lt;built-in method values of lxml.objectify.Stri...</td>\n",
       "      <td>&lt;built-in method values of lxml.objectify.Stri...</td>\n",
       "      <td>&lt;built-in method values of lxml.objectify.Stri...</td>\n",
       "      <td>&lt;built-in method values of lxml.objectify.Stri...</td>\n",
       "      <td>&lt;built-in method values of lxml.objectify.Stri...</td>\n",
       "      <td>&lt;built-in method values of lxml.objectify.Obje...</td>\n",
       "    </tr>\n",
       "    <tr>\n",
       "      <th>10</th>\n",
       "      <td>&lt;built-in method values of lxml.objectify.Stri...</td>\n",
       "      <td>&lt;built-in method values of lxml.objectify.Stri...</td>\n",
       "      <td>&lt;built-in method values of lxml.objectify.Stri...</td>\n",
       "      <td>&lt;built-in method values of lxml.objectify.Stri...</td>\n",
       "      <td>&lt;built-in method values of lxml.objectify.Stri...</td>\n",
       "      <td>&lt;built-in method values of lxml.objectify.Stri...</td>\n",
       "      <td>&lt;built-in method values of lxml.objectify.Obje...</td>\n",
       "    </tr>\n",
       "    <tr>\n",
       "      <th>11</th>\n",
       "      <td>&lt;built-in method values of lxml.objectify.Stri...</td>\n",
       "      <td>&lt;built-in method values of lxml.objectify.Stri...</td>\n",
       "      <td>&lt;built-in method values of lxml.objectify.Stri...</td>\n",
       "      <td>&lt;built-in method values of lxml.objectify.Stri...</td>\n",
       "      <td>&lt;built-in method values of lxml.objectify.Stri...</td>\n",
       "      <td>&lt;built-in method values of lxml.objectify.Stri...</td>\n",
       "      <td>&lt;built-in method values of lxml.objectify.Obje...</td>\n",
       "    </tr>\n",
       "    <tr>\n",
       "      <th>12</th>\n",
       "      <td>&lt;built-in method values of lxml.objectify.Stri...</td>\n",
       "      <td>&lt;built-in method values of lxml.objectify.Stri...</td>\n",
       "      <td>&lt;built-in method values of lxml.objectify.Stri...</td>\n",
       "      <td>&lt;built-in method values of lxml.objectify.Stri...</td>\n",
       "      <td>&lt;built-in method values of lxml.objectify.Stri...</td>\n",
       "      <td>&lt;built-in method values of lxml.objectify.Stri...</td>\n",
       "      <td>&lt;built-in method values of lxml.objectify.Obje...</td>\n",
       "    </tr>\n",
       "  </tbody>\n",
       "</table>\n",
       "</div>"
      ],
      "text/plain": [
       "                                          AGENCY_NAME  \\\n",
       "0   <built-in method values of lxml.objectify.Stri...   \n",
       "1   <built-in method values of lxml.objectify.Stri...   \n",
       "2   <built-in method values of lxml.objectify.Stri...   \n",
       "3   <built-in method values of lxml.objectify.Stri...   \n",
       "4   <built-in method values of lxml.objectify.Stri...   \n",
       "5   <built-in method values of lxml.objectify.Stri...   \n",
       "6   <built-in method values of lxml.objectify.Stri...   \n",
       "7   <built-in method values of lxml.objectify.Stri...   \n",
       "8   <built-in method values of lxml.objectify.Stri...   \n",
       "9   <built-in method values of lxml.objectify.Stri...   \n",
       "10  <built-in method values of lxml.objectify.Stri...   \n",
       "11  <built-in method values of lxml.objectify.Stri...   \n",
       "12  <built-in method values of lxml.objectify.Stri...   \n",
       "\n",
       "                                             CATEGORY  \\\n",
       "0   <built-in method values of lxml.objectify.Stri...   \n",
       "1   <built-in method values of lxml.objectify.Stri...   \n",
       "2   <built-in method values of lxml.objectify.Stri...   \n",
       "3   <built-in method values of lxml.objectify.Stri...   \n",
       "4   <built-in method values of lxml.objectify.Stri...   \n",
       "5   <built-in method values of lxml.objectify.Stri...   \n",
       "6   <built-in method values of lxml.objectify.Stri...   \n",
       "7   <built-in method values of lxml.objectify.Stri...   \n",
       "8   <built-in method values of lxml.objectify.Stri...   \n",
       "9   <built-in method values of lxml.objectify.Stri...   \n",
       "10  <built-in method values of lxml.objectify.Stri...   \n",
       "11  <built-in method values of lxml.objectify.Stri...   \n",
       "12  <built-in method values of lxml.objectify.Stri...   \n",
       "\n",
       "                                          DESCRIPTION  \\\n",
       "0   <built-in method values of lxml.objectify.Stri...   \n",
       "1   <built-in method values of lxml.objectify.Stri...   \n",
       "2   <built-in method values of lxml.objectify.Stri...   \n",
       "3   <built-in method values of lxml.objectify.Stri...   \n",
       "4   <built-in method values of lxml.objectify.Stri...   \n",
       "5   <built-in method values of lxml.objectify.Stri...   \n",
       "6   <built-in method values of lxml.objectify.Stri...   \n",
       "7   <built-in method values of lxml.objectify.Stri...   \n",
       "8   <built-in method values of lxml.objectify.Stri...   \n",
       "9   <built-in method values of lxml.objectify.Stri...   \n",
       "10  <built-in method values of lxml.objectify.Stri...   \n",
       "11  <built-in method values of lxml.objectify.Stri...   \n",
       "12  <built-in method values of lxml.objectify.Stri...   \n",
       "\n",
       "                                            FREQUENCY  \\\n",
       "0   <built-in method values of lxml.objectify.Stri...   \n",
       "1   <built-in method values of lxml.objectify.Stri...   \n",
       "2   <built-in method values of lxml.objectify.Stri...   \n",
       "3   <built-in method values of lxml.objectify.Stri...   \n",
       "4   <built-in method values of lxml.objectify.Stri...   \n",
       "5   <built-in method values of lxml.objectify.Stri...   \n",
       "6   <built-in method values of lxml.objectify.Stri...   \n",
       "7   <built-in method values of lxml.objectify.Stri...   \n",
       "8   <built-in method values of lxml.objectify.Stri...   \n",
       "9   <built-in method values of lxml.objectify.Stri...   \n",
       "10  <built-in method values of lxml.objectify.Stri...   \n",
       "11  <built-in method values of lxml.objectify.Stri...   \n",
       "12  <built-in method values of lxml.objectify.Stri...   \n",
       "\n",
       "                                       INDICATOR_NAME  \\\n",
       "0   <built-in method values of lxml.objectify.Stri...   \n",
       "1   <built-in method values of lxml.objectify.Stri...   \n",
       "2   <built-in method values of lxml.objectify.Stri...   \n",
       "3   <built-in method values of lxml.objectify.Stri...   \n",
       "4   <built-in method values of lxml.objectify.Stri...   \n",
       "5   <built-in method values of lxml.objectify.Stri...   \n",
       "6   <built-in method values of lxml.objectify.Stri...   \n",
       "7   <built-in method values of lxml.objectify.Stri...   \n",
       "8   <built-in method values of lxml.objectify.Stri...   \n",
       "9   <built-in method values of lxml.objectify.Stri...   \n",
       "10  <built-in method values of lxml.objectify.Stri...   \n",
       "11  <built-in method values of lxml.objectify.Stri...   \n",
       "12  <built-in method values of lxml.objectify.Stri...   \n",
       "\n",
       "                                       INDICATOR_UNIT  \\\n",
       "0   <built-in method values of lxml.objectify.Stri...   \n",
       "1   <built-in method values of lxml.objectify.Stri...   \n",
       "2   <built-in method values of lxml.objectify.Stri...   \n",
       "3   <built-in method values of lxml.objectify.Stri...   \n",
       "4   <built-in method values of lxml.objectify.Stri...   \n",
       "5   <built-in method values of lxml.objectify.Stri...   \n",
       "6   <built-in method values of lxml.objectify.Stri...   \n",
       "7   <built-in method values of lxml.objectify.Stri...   \n",
       "8   <built-in method values of lxml.objectify.Stri...   \n",
       "9   <built-in method values of lxml.objectify.Stri...   \n",
       "10  <built-in method values of lxml.objectify.Stri...   \n",
       "11  <built-in method values of lxml.objectify.Stri...   \n",
       "12  <built-in method values of lxml.objectify.Stri...   \n",
       "\n",
       "                                                 YEAR  \n",
       "0   <built-in method values of lxml.objectify.Obje...  \n",
       "1   <built-in method values of lxml.objectify.Obje...  \n",
       "2   <built-in method values of lxml.objectify.Obje...  \n",
       "3   <built-in method values of lxml.objectify.Obje...  \n",
       "4   <built-in method values of lxml.objectify.Obje...  \n",
       "5   <built-in method values of lxml.objectify.Obje...  \n",
       "6   <built-in method values of lxml.objectify.Obje...  \n",
       "7   <built-in method values of lxml.objectify.Obje...  \n",
       "8   <built-in method values of lxml.objectify.Obje...  \n",
       "9   <built-in method values of lxml.objectify.Obje...  \n",
       "10  <built-in method values of lxml.objectify.Obje...  \n",
       "11  <built-in method values of lxml.objectify.Obje...  \n",
       "12  <built-in method values of lxml.objectify.Obje...  "
      ]
     },
     "execution_count": 656,
     "metadata": {},
     "output_type": "execute_result"
    }
   ],
   "source": [
    "perf = DataFrame(data)\n",
    "perf"
   ]
  },
  {
   "cell_type": "code",
   "execution_count": 657,
   "metadata": {
    "collapsed": false
   },
   "outputs": [
    {
     "data": {
      "text/plain": [
       "<Element PERFORMANCE at 0x114e18368>"
      ]
     },
     "execution_count": 657,
     "metadata": {},
     "output_type": "execute_result"
    }
   ],
   "source": [
    "root"
   ]
  },
  {
   "cell_type": "code",
   "execution_count": 658,
   "metadata": {
    "collapsed": true
   },
   "outputs": [],
   "source": [
    "root.get('href')"
   ]
  },
  {
   "cell_type": "code",
   "execution_count": 659,
   "metadata": {
    "collapsed": true
   },
   "outputs": [],
   "source": [
    "root.text"
   ]
  },
  {
   "cell_type": "markdown",
   "metadata": {},
   "source": [
    "- href가 들어간 url의 주소와 해당 텍스트를 출력하려고 했으나 해당 파싱된 파일 안에는 외부 url이 없었으므로, 추가하는 코드를 넣어보자"
   ]
  },
  {
   "cell_type": "code",
   "execution_count": 660,
   "metadata": {
    "collapsed": true
   },
   "outputs": [],
   "source": [
    "from StringIO import StringIO\n",
    "tag = '<a href=\"http://www.google.com\">Google</a>'\n",
    "\n",
    "root = objectify.parse(StringIO(tag)).getroot()   #root권한으로 해당 태그를 root에 추가"
   ]
  },
  {
   "cell_type": "markdown",
   "metadata": {},
   "source": [
    "- 해당 내용이 추가되면 다음의 내용이 추가로 나오는것을 알 수 있다."
   ]
  },
  {
   "cell_type": "code",
   "execution_count": 661,
   "metadata": {
    "collapsed": false
   },
   "outputs": [
    {
     "data": {
      "text/plain": [
       "<Element a at 0x113f679e0>"
      ]
     },
     "execution_count": 661,
     "metadata": {},
     "output_type": "execute_result"
    }
   ],
   "source": [
    "root"
   ]
  },
  {
   "cell_type": "code",
   "execution_count": 662,
   "metadata": {
    "collapsed": false
   },
   "outputs": [
    {
     "data": {
      "text/plain": [
       "'http://www.google.com'"
      ]
     },
     "execution_count": 662,
     "metadata": {},
     "output_type": "execute_result"
    }
   ],
   "source": [
    "root.get('href')"
   ]
  },
  {
   "cell_type": "code",
   "execution_count": 663,
   "metadata": {
    "collapsed": false
   },
   "outputs": [
    {
     "data": {
      "text/plain": [
       "'Google'"
      ]
     },
     "execution_count": 663,
     "metadata": {},
     "output_type": "execute_result"
    }
   ],
   "source": [
    "root.text"
   ]
  },
  {
   "cell_type": "code",
   "execution_count": null,
   "metadata": {
    "collapsed": true
   },
   "outputs": [],
   "source": []
  },
  {
   "cell_type": "markdown",
   "metadata": {},
   "source": [
    "## 2. 이진 데이터 형식"
   ]
  },
  {
   "cell_type": "markdown",
   "metadata": {},
   "source": [
    "- pandas의 객체는 모두 pickle을 이용해서 데이터를 저장하는 save메서드를 가지고 있다."
   ]
  },
  {
   "cell_type": "code",
   "execution_count": 664,
   "metadata": {
    "collapsed": false
   },
   "outputs": [
    {
     "data": {
      "text/html": [
       "<div>\n",
       "<table border=\"1\" class=\"dataframe\">\n",
       "  <thead>\n",
       "    <tr style=\"text-align: right;\">\n",
       "      <th></th>\n",
       "      <th>a</th>\n",
       "      <th>b</th>\n",
       "      <th>c</th>\n",
       "      <th>d</th>\n",
       "      <th>message</th>\n",
       "    </tr>\n",
       "  </thead>\n",
       "  <tbody>\n",
       "    <tr>\n",
       "      <th>0</th>\n",
       "      <td>1</td>\n",
       "      <td>2</td>\n",
       "      <td>3</td>\n",
       "      <td>4</td>\n",
       "      <td>hello</td>\n",
       "    </tr>\n",
       "    <tr>\n",
       "      <th>1</th>\n",
       "      <td>5</td>\n",
       "      <td>6</td>\n",
       "      <td>7</td>\n",
       "      <td>8</td>\n",
       "      <td>world</td>\n",
       "    </tr>\n",
       "    <tr>\n",
       "      <th>2</th>\n",
       "      <td>9</td>\n",
       "      <td>10</td>\n",
       "      <td>11</td>\n",
       "      <td>12</td>\n",
       "      <td>foo</td>\n",
       "    </tr>\n",
       "  </tbody>\n",
       "</table>\n",
       "</div>"
      ],
      "text/plain": [
       "   a   b   c   d message\n",
       "0  1   2   3   4   hello\n",
       "1  5   6   7   8   world\n",
       "2  9  10  11  12     foo"
      ]
     },
     "execution_count": 664,
     "metadata": {},
     "output_type": "execute_result"
    }
   ],
   "source": [
    "frame = pd.read_csv('https://raw.githubusercontent.com/pydata/pydata-book/master/ch06/ex1.csv')\n",
    "frame"
   ]
  },
  {
   "cell_type": "code",
   "execution_count": 665,
   "metadata": {
    "collapsed": false
   },
   "outputs": [
    {
     "name": "stdout",
     "output_type": "stream",
     "text": [
      "/Users/hyunkyo/HK-PyDA\n"
     ]
    }
   ],
   "source": [
    "%cd ..\n",
    "frame.to_pickle('ch06/frame_pickle.csv')"
   ]
  },
  {
   "cell_type": "code",
   "execution_count": 666,
   "metadata": {
    "collapsed": false,
    "scrolled": true
   },
   "outputs": [
    {
     "name": "stdout",
     "output_type": "stream",
     "text": [
      "�\u0002cpandas.core.frame\r\n",
      "DataFrame\r\n",
      "q\u0001)�q\u0002cpandas.core.internals\r\n",
      "BlockManager\r\n",
      "q\u0003)�q\u0004(]q\u0005(cpandas.core.index\r\n",
      "_new_Index\r\n",
      "q\u0006cpandas.core.index\r\n",
      "Index\r\n",
      "q\u0007}q\b(U\u0004dataq\tcnumpy.core.multiarray\r\n",
      "_reconstruct\r\n",
      "q\r\n",
      "cnumpy\r\n",
      "ndarray\r\n",
      "q\u000b",
      "K\u0000�U\u0001b�Rq\f",
      "(K\u0001K\u0005�cnumpy\r\n",
      "dtype\r\n",
      "q\r",
      "U\u0002O8K\u0000K\u0001�Rq\u000e(K\u0003U\u0001|NNNJ����J����K?tb�]q\u000f(U\u0001aU\u0001bU\u0001cU\u0001dU\u0007messageq\u0010etbU\u0004nameq\u0011Nu�Rq\u0012h\u0006cpandas.core.index\r\n",
      "Int64Index\r\n",
      "q\u0013}q\u0014(h\th\r\n",
      "h\u000b",
      "K\u0000�U\u0001b�Rq\u0015(K\u0001K\u0003�h\r",
      "U\u0002i8K\u0000K\u0001�Rq\u0016(K\u0003U\u0001<NNNJ����J����K\u0000tb�U\u0018\u0000\u0000\u0000\u0000\u0000\u0000\u0000\u0000\u0001\u0000\u0000\u0000\u0000\u0000\u0000\u0000\u0002\u0000\u0000\u0000\u0000\u0000\u0000\u0000tbh\u0011Nu�Rq\u0017e]q\u0018(h\r\n",
      "h\u000b",
      "K\u0000�U\u0001b�Rq\u0019(K\u0001K\u0004K\u0003�h\u0016�U`\u0001\u0000\u0000\u0000\u0000\u0000\u0000\u0000\u0005\u0000\u0000\u0000\u0000\u0000\u0000\u0000\t\u0000\u0000\u0000\u0000\u0000\u0000\u0000\u0002\u0000\u0000\u0000\u0000\u0000\u0000\u0000\u0006\u0000\u0000\u0000\u0000\u0000\u0000\u0000\r\n",
      "\u0000\u0000\u0000\u0000\u0000\u0000\u0000\u0003\u0000\u0000\u0000\u0000\u0000\u0000\u0000\u0007\u0000\u0000\u0000\u0000\u0000\u0000\u0000\u000b",
      "\u0000\u0000\u0000\u0000\u0000\u0000\u0000\u0004\u0000\u0000\u0000\u0000\u0000\u0000\u0000\b\u0000\u0000\u0000\u0000\u0000\u0000\u0000\f",
      "\u0000\u0000\u0000\u0000\u0000\u0000\u0000tbh\r\n",
      "h\u000b",
      "K\u0000�U\u0001b�Rq\u001a(K\u0001K\u0001K\u0003�h\u000e�]q\u001b(U\u0005helloq\u001c",
      "U\u0005worldq\u001d",
      "U\u0003fooq\u001e",
      "etbe]q\u001f(h\u0006h\u0007}q (h\th\r\n",
      "h\u000b",
      "K\u0000�U\u0001b�Rq!(K\u0001K\u0004�h\u000e�]q\"(U\u0001aU\u0001bU\u0001cU\u0001detbh\u0011Nu�Rq#h\u0006h\u0007}q$(h\th\r\n",
      "h\u000b",
      "K\u0000�U\u0001b�Rq%(K\u0001K\u0001�h\u000e�]q&h\u0010atbh\u0011Nu�Rq'e}q(U\u00060.14.1q)}q*(U\u0004axesq+h\u0005U\u0006blocksq,]q-(}q.(U\bmgr_locsq/c__builtin__\r\n",
      "slice\r\n",
      "q0K\u0000K\u0004K\u0001�Rq1U\u0006valuesq2h\u0019u}q3(h/h0K\u0004K\u0005K\u0001�Rq4h2h\u001aueustbb."
     ]
    }
   ],
   "source": [
    "!cat ch06/frame_pickle.csv"
   ]
  },
  {
   "cell_type": "code",
   "execution_count": null,
   "metadata": {
    "collapsed": true
   },
   "outputs": [],
   "source": []
  },
  {
   "cell_type": "markdown",
   "metadata": {},
   "source": [
    "### 1) HDF5 형식 사용하기"
   ]
  },
  {
   "cell_type": "markdown",
   "metadata": {},
   "source": [
    "- HDF5는 계층적 데이터 형식 이라는 뜻이다.\n",
    "- 내부적으로 파일 시스템 같은 노드 구조를 가지는데, 여러 개의 데이터셋을 저장하고 부가 정보를 기록할 수 있도록 해준다\n",
    "- 다양한 압축기술을 이용하여 실시간으로 압축을 지원하며 반복하는 패턴을 가진 데이터를 좀 더 효과적으로 저장 할 수 있다\n",
    "- HDFStore을 사용하기 위해서는 HDF5 library와 pytable library를 Canopy를 통해 설치해야한다."
   ]
  },
  {
   "cell_type": "code",
   "execution_count": 667,
   "metadata": {
    "collapsed": false
   },
   "outputs": [
    {
     "data": {
      "text/plain": [
       "<class 'pandas.io.pytables.HDFStore'>\n",
       "File path: mydata.h5\n",
       "/obj1                frame        (shape->[3,5])\n",
       "/obj1_col            series       (shape->[3])  "
      ]
     },
     "execution_count": 667,
     "metadata": {},
     "output_type": "execute_result"
    }
   ],
   "source": [
    "#pandas는 PyTables를 이용한 HDFStore라는 가벼운 사전 클래스를 통해 pandas 객체를 저장한다.\n",
    "store = pd.HDFStore('mydata.h5')\n",
    "store['obj1'] = frame\n",
    "store['obj1_col'] = frame['a']\n",
    "store"
   ]
  },
  {
   "cell_type": "code",
   "execution_count": 668,
   "metadata": {
    "collapsed": false
   },
   "outputs": [
    {
     "data": {
      "text/html": [
       "<div>\n",
       "<table border=\"1\" class=\"dataframe\">\n",
       "  <thead>\n",
       "    <tr style=\"text-align: right;\">\n",
       "      <th></th>\n",
       "      <th>a</th>\n",
       "      <th>b</th>\n",
       "      <th>c</th>\n",
       "      <th>d</th>\n",
       "      <th>message</th>\n",
       "    </tr>\n",
       "  </thead>\n",
       "  <tbody>\n",
       "    <tr>\n",
       "      <th>0</th>\n",
       "      <td>1</td>\n",
       "      <td>2</td>\n",
       "      <td>3</td>\n",
       "      <td>4</td>\n",
       "      <td>hello</td>\n",
       "    </tr>\n",
       "    <tr>\n",
       "      <th>1</th>\n",
       "      <td>5</td>\n",
       "      <td>6</td>\n",
       "      <td>7</td>\n",
       "      <td>8</td>\n",
       "      <td>world</td>\n",
       "    </tr>\n",
       "    <tr>\n",
       "      <th>2</th>\n",
       "      <td>9</td>\n",
       "      <td>10</td>\n",
       "      <td>11</td>\n",
       "      <td>12</td>\n",
       "      <td>foo</td>\n",
       "    </tr>\n",
       "  </tbody>\n",
       "</table>\n",
       "</div>"
      ],
      "text/plain": [
       "   a   b   c   d message\n",
       "0  1   2   3   4   hello\n",
       "1  5   6   7   8   world\n",
       "2  9  10  11  12     foo"
      ]
     },
     "execution_count": 668,
     "metadata": {},
     "output_type": "execute_result"
    }
   ],
   "source": [
    "store['obj1']"
   ]
  },
  {
   "cell_type": "code",
   "execution_count": null,
   "metadata": {
    "collapsed": true
   },
   "outputs": [],
   "source": []
  },
  {
   "cell_type": "markdown",
   "metadata": {},
   "source": [
    "### 3) 마이크로소프트 엑셀 파일에서 데이터 읽어오기"
   ]
  },
  {
   "cell_type": "markdown",
   "metadata": {},
   "source": [
    "- pandas는 ExcelFile 클래스를 통해서 엑셀 파일을 읽어올 수 있다.\n",
    "- 내부적으로 ExcelFile 클래스는 xlrd, openpyxl 패키지를 이용하므로 사용하기전에 두 패키지를 먼저 설치해야 한다."
   ]
  },
  {
   "cell_type": "code",
   "execution_count": 669,
   "metadata": {
    "collapsed": false
   },
   "outputs": [
    {
     "data": {
      "text/plain": [
       "<pandas.io.excel.ExcelFile at 0x1117b0ed0>"
      ]
     },
     "execution_count": 669,
     "metadata": {},
     "output_type": "execute_result"
    }
   ],
   "source": [
    "xls_file = pd.ExcelFile('ch06/data.xlsx')\n",
    "xls_file"
   ]
  },
  {
   "cell_type": "code",
   "execution_count": 670,
   "metadata": {
    "collapsed": false
   },
   "outputs": [
    {
     "data": {
      "text/html": [
       "<div>\n",
       "<table border=\"1\" class=\"dataframe\">\n",
       "  <thead>\n",
       "    <tr style=\"text-align: right;\">\n",
       "      <th></th>\n",
       "      <th>one</th>\n",
       "      <th>two</th>\n",
       "      <th>three</th>\n",
       "    </tr>\n",
       "  </thead>\n",
       "  <tbody>\n",
       "    <tr>\n",
       "      <th>0</th>\n",
       "      <td>1</td>\n",
       "      <td>2</td>\n",
       "      <td>3</td>\n",
       "    </tr>\n",
       "    <tr>\n",
       "      <th>1</th>\n",
       "      <td>4</td>\n",
       "      <td>5</td>\n",
       "      <td>6</td>\n",
       "    </tr>\n",
       "    <tr>\n",
       "      <th>2</th>\n",
       "      <td>7</td>\n",
       "      <td>8</td>\n",
       "      <td>9</td>\n",
       "    </tr>\n",
       "  </tbody>\n",
       "</table>\n",
       "</div>"
      ],
      "text/plain": [
       "   one  two  three\n",
       "0    1    2      3\n",
       "1    4    5      6\n",
       "2    7    8      9"
      ]
     },
     "execution_count": 670,
     "metadata": {},
     "output_type": "execute_result"
    }
   ],
   "source": [
    "table = xls_file.parse('Sheet1')   #pandas를 통해 읽어온 파일을 DataFrame으로 읽어 올 수 있다.\n",
    "table"
   ]
  },
  {
   "cell_type": "code",
   "execution_count": null,
   "metadata": {
    "collapsed": true
   },
   "outputs": [],
   "source": []
  },
  {
   "cell_type": "markdown",
   "metadata": {},
   "source": [
    "## 3. HTML, 웹 API와 함께 사용하기"
   ]
  },
  {
   "cell_type": "markdown",
   "metadata": {},
   "source": [
    "- 파이썬으로 API를 사용하는 방법은 다양하며 추천하는 가장 쉬운 방법은 requests패키지를 이용하는 것이다."
   ]
  },
  {
   "cell_type": "code",
   "execution_count": 671,
   "metadata": {
    "collapsed": false
   },
   "outputs": [
    {
     "data": {
      "text/plain": [
       "<Response [200]>"
      ]
     },
     "execution_count": 671,
     "metadata": {},
     "output_type": "execute_result"
    }
   ],
   "source": [
    "import requests\n",
    "url = 'https://api.github.com/repos/pydata/pandas/milestones/28/labels'\n",
    "resp = requests.get(url)\n",
    "resp"
   ]
  },
  {
   "cell_type": "markdown",
   "metadata": {},
   "source": [
    "- Response 객체의 text 속성은 GET 질의에 대한 내요을 담고 있다.\n",
    "- 많은 API는 JSON 문자열을 반환하는데, 이 문자열은 파이썬 객체로 담아야 한다."
   ]
  },
  {
   "cell_type": "code",
   "execution_count": 672,
   "metadata": {
    "collapsed": false
   },
   "outputs": [
    {
     "data": {
      "text/plain": [
       "[{u'color': u'e10c02',\n",
       "  u'name': u'Bug',\n",
       "  u'url': u'https://api.github.com/repos/pydata/pandas/labels/Bug'},\n",
       " {u'color': u'4E9A06',\n",
       "  u'name': u'Enhancement',\n",
       "  u'url': u'https://api.github.com/repos/pydata/pandas/labels/Enhancement'},\n",
       " {u'color': u'FCE94F',\n",
       "  u'name': u'Refactor',\n",
       "  u'url': u'https://api.github.com/repos/pydata/pandas/labels/Refactor'},\n",
       " {u'color': u'75507B',\n",
       "  u'name': u'Build',\n",
       "  u'url': u'https://api.github.com/repos/pydata/pandas/labels/Build'},\n",
       " {u'color': u'3465A4',\n",
       "  u'name': u'Docs',\n",
       "  u'url': u'https://api.github.com/repos/pydata/pandas/labels/Docs'},\n",
       " {u'color': u'729FCF',\n",
       "  u'name': u'Groupby',\n",
       "  u'url': u'https://api.github.com/repos/pydata/pandas/labels/Groupby'},\n",
       " {u'color': u'06909A',\n",
       "  u'name': u'Data IO',\n",
       "  u'url': u'https://api.github.com/repos/pydata/pandas/labels/Data%20IO'},\n",
       " {u'color': u'8AE234',\n",
       "  u'name': u'Visualization',\n",
       "  u'url': u'https://api.github.com/repos/pydata/pandas/labels/Visualization'},\n",
       " {u'color': u'0b02e1',\n",
       "  u'name': u'Indexing',\n",
       "  u'url': u'https://api.github.com/repos/pydata/pandas/labels/Indexing'},\n",
       " {u'color': u'd7e102',\n",
       "  u'name': u'Missing-data',\n",
       "  u'url': u'https://api.github.com/repos/pydata/pandas/labels/Missing-data'},\n",
       " {u'color': u'a10c02',\n",
       "  u'name': u'Performance',\n",
       "  u'url': u'https://api.github.com/repos/pydata/pandas/labels/Performance'},\n",
       " {u'color': u'02d7e1',\n",
       "  u'name': u'Reshaping',\n",
       "  u'url': u'https://api.github.com/repos/pydata/pandas/labels/Reshaping'},\n",
       " {u'color': u'fbca04',\n",
       "  u'name': u'Difficulty Novice',\n",
       "  u'url': u'https://api.github.com/repos/pydata/pandas/labels/Difficulty%20Novice'},\n",
       " {u'color': u'e102d8',\n",
       "  u'name': u'Dtypes',\n",
       "  u'url': u'https://api.github.com/repos/pydata/pandas/labels/Dtypes'},\n",
       " {u'color': u'DDDDDD',\n",
       "  u'name': u'Note To Selves',\n",
       "  u'url': u'https://api.github.com/repos/pydata/pandas/labels/Note%20To%20Selves'},\n",
       " {u'color': u'AD7FA8',\n",
       "  u'name': u'API Design',\n",
       "  u'url': u'https://api.github.com/repos/pydata/pandas/labels/API%20Design'},\n",
       " {u'color': u'ffa0ff',\n",
       "  u'name': u'Error Reporting',\n",
       "  u'url': u'https://api.github.com/repos/pydata/pandas/labels/Error%20Reporting'},\n",
       " {u'color': u'006b75',\n",
       "  u'name': u'Numeric',\n",
       "  u'url': u'https://api.github.com/repos/pydata/pandas/labels/Numeric'},\n",
       " {u'color': u'5319e7',\n",
       "  u'name': u'CSV',\n",
       "  u'url': u'https://api.github.com/repos/pydata/pandas/labels/CSV'},\n",
       " {u'color': u'5319e7',\n",
       "  u'name': u'SQL',\n",
       "  u'url': u'https://api.github.com/repos/pydata/pandas/labels/SQL'},\n",
       " {u'color': u'a2bca7',\n",
       "  u'name': u'CI',\n",
       "  u'url': u'https://api.github.com/repos/pydata/pandas/labels/CI'},\n",
       " {u'color': u'fbca04',\n",
       "  u'name': u'Internals',\n",
       "  u'url': u'https://api.github.com/repos/pydata/pandas/labels/Internals'},\n",
       " {u'color': u'5319e7',\n",
       "  u'name': u'Timedelta',\n",
       "  u'url': u'https://api.github.com/repos/pydata/pandas/labels/Timedelta'},\n",
       " {u'color': u'0052cc',\n",
       "  u'name': u'Frequency',\n",
       "  u'url': u'https://api.github.com/repos/pydata/pandas/labels/Frequency'},\n",
       " {u'color': u'fbca04',\n",
       "  u'name': u'Windows',\n",
       "  u'url': u'https://api.github.com/repos/pydata/pandas/labels/Windows'},\n",
       " {u'color': u'eb6420',\n",
       "  u'name': u'Algos',\n",
       "  u'url': u'https://api.github.com/repos/pydata/pandas/labels/Algos'},\n",
       " {u'color': u'5319e7',\n",
       "  u'name': u'Timezones',\n",
       "  u'url': u'https://api.github.com/repos/pydata/pandas/labels/Timezones'},\n",
       " {u'color': u'eb6420',\n",
       "  u'name': u'Period',\n",
       "  u'url': u'https://api.github.com/repos/pydata/pandas/labels/Period'},\n",
       " {u'color': u'207de5',\n",
       "  u'name': u'MultiIndex',\n",
       "  u'url': u'https://api.github.com/repos/pydata/pandas/labels/MultiIndex'},\n",
       " {u'color': u'e11d21',\n",
       "  u'name': u'Categorical',\n",
       "  u'url': u'https://api.github.com/repos/pydata/pandas/labels/Categorical'}]"
      ]
     },
     "execution_count": 672,
     "metadata": {},
     "output_type": "execute_result"
    }
   ],
   "source": [
    "data = json.loads(resp.text)\n",
    "data"
   ]
  },
  {
   "cell_type": "code",
   "execution_count": 673,
   "metadata": {
    "collapsed": false
   },
   "outputs": [
    {
     "data": {
      "text/html": [
       "<div>\n",
       "<table border=\"1\" class=\"dataframe\">\n",
       "  <thead>\n",
       "    <tr style=\"text-align: right;\">\n",
       "      <th></th>\n",
       "      <th>color</th>\n",
       "      <th>name</th>\n",
       "      <th>url</th>\n",
       "    </tr>\n",
       "  </thead>\n",
       "  <tbody>\n",
       "    <tr>\n",
       "      <th>0</th>\n",
       "      <td>e10c02</td>\n",
       "      <td>Bug</td>\n",
       "      <td>https://api.github.com/repos/pydata/pandas/lab...</td>\n",
       "    </tr>\n",
       "    <tr>\n",
       "      <th>1</th>\n",
       "      <td>4E9A06</td>\n",
       "      <td>Enhancement</td>\n",
       "      <td>https://api.github.com/repos/pydata/pandas/lab...</td>\n",
       "    </tr>\n",
       "    <tr>\n",
       "      <th>2</th>\n",
       "      <td>FCE94F</td>\n",
       "      <td>Refactor</td>\n",
       "      <td>https://api.github.com/repos/pydata/pandas/lab...</td>\n",
       "    </tr>\n",
       "    <tr>\n",
       "      <th>3</th>\n",
       "      <td>75507B</td>\n",
       "      <td>Build</td>\n",
       "      <td>https://api.github.com/repos/pydata/pandas/lab...</td>\n",
       "    </tr>\n",
       "    <tr>\n",
       "      <th>4</th>\n",
       "      <td>3465A4</td>\n",
       "      <td>Docs</td>\n",
       "      <td>https://api.github.com/repos/pydata/pandas/lab...</td>\n",
       "    </tr>\n",
       "    <tr>\n",
       "      <th>5</th>\n",
       "      <td>729FCF</td>\n",
       "      <td>Groupby</td>\n",
       "      <td>https://api.github.com/repos/pydata/pandas/lab...</td>\n",
       "    </tr>\n",
       "    <tr>\n",
       "      <th>6</th>\n",
       "      <td>06909A</td>\n",
       "      <td>Data IO</td>\n",
       "      <td>https://api.github.com/repos/pydata/pandas/lab...</td>\n",
       "    </tr>\n",
       "    <tr>\n",
       "      <th>7</th>\n",
       "      <td>8AE234</td>\n",
       "      <td>Visualization</td>\n",
       "      <td>https://api.github.com/repos/pydata/pandas/lab...</td>\n",
       "    </tr>\n",
       "    <tr>\n",
       "      <th>8</th>\n",
       "      <td>0b02e1</td>\n",
       "      <td>Indexing</td>\n",
       "      <td>https://api.github.com/repos/pydata/pandas/lab...</td>\n",
       "    </tr>\n",
       "    <tr>\n",
       "      <th>9</th>\n",
       "      <td>d7e102</td>\n",
       "      <td>Missing-data</td>\n",
       "      <td>https://api.github.com/repos/pydata/pandas/lab...</td>\n",
       "    </tr>\n",
       "    <tr>\n",
       "      <th>10</th>\n",
       "      <td>a10c02</td>\n",
       "      <td>Performance</td>\n",
       "      <td>https://api.github.com/repos/pydata/pandas/lab...</td>\n",
       "    </tr>\n",
       "    <tr>\n",
       "      <th>11</th>\n",
       "      <td>02d7e1</td>\n",
       "      <td>Reshaping</td>\n",
       "      <td>https://api.github.com/repos/pydata/pandas/lab...</td>\n",
       "    </tr>\n",
       "    <tr>\n",
       "      <th>12</th>\n",
       "      <td>fbca04</td>\n",
       "      <td>Difficulty Novice</td>\n",
       "      <td>https://api.github.com/repos/pydata/pandas/lab...</td>\n",
       "    </tr>\n",
       "    <tr>\n",
       "      <th>13</th>\n",
       "      <td>e102d8</td>\n",
       "      <td>Dtypes</td>\n",
       "      <td>https://api.github.com/repos/pydata/pandas/lab...</td>\n",
       "    </tr>\n",
       "    <tr>\n",
       "      <th>14</th>\n",
       "      <td>DDDDDD</td>\n",
       "      <td>Note To Selves</td>\n",
       "      <td>https://api.github.com/repos/pydata/pandas/lab...</td>\n",
       "    </tr>\n",
       "    <tr>\n",
       "      <th>15</th>\n",
       "      <td>AD7FA8</td>\n",
       "      <td>API Design</td>\n",
       "      <td>https://api.github.com/repos/pydata/pandas/lab...</td>\n",
       "    </tr>\n",
       "    <tr>\n",
       "      <th>16</th>\n",
       "      <td>ffa0ff</td>\n",
       "      <td>Error Reporting</td>\n",
       "      <td>https://api.github.com/repos/pydata/pandas/lab...</td>\n",
       "    </tr>\n",
       "    <tr>\n",
       "      <th>17</th>\n",
       "      <td>006b75</td>\n",
       "      <td>Numeric</td>\n",
       "      <td>https://api.github.com/repos/pydata/pandas/lab...</td>\n",
       "    </tr>\n",
       "    <tr>\n",
       "      <th>18</th>\n",
       "      <td>5319e7</td>\n",
       "      <td>CSV</td>\n",
       "      <td>https://api.github.com/repos/pydata/pandas/lab...</td>\n",
       "    </tr>\n",
       "    <tr>\n",
       "      <th>19</th>\n",
       "      <td>5319e7</td>\n",
       "      <td>SQL</td>\n",
       "      <td>https://api.github.com/repos/pydata/pandas/lab...</td>\n",
       "    </tr>\n",
       "    <tr>\n",
       "      <th>20</th>\n",
       "      <td>a2bca7</td>\n",
       "      <td>CI</td>\n",
       "      <td>https://api.github.com/repos/pydata/pandas/lab...</td>\n",
       "    </tr>\n",
       "    <tr>\n",
       "      <th>21</th>\n",
       "      <td>fbca04</td>\n",
       "      <td>Internals</td>\n",
       "      <td>https://api.github.com/repos/pydata/pandas/lab...</td>\n",
       "    </tr>\n",
       "    <tr>\n",
       "      <th>22</th>\n",
       "      <td>5319e7</td>\n",
       "      <td>Timedelta</td>\n",
       "      <td>https://api.github.com/repos/pydata/pandas/lab...</td>\n",
       "    </tr>\n",
       "    <tr>\n",
       "      <th>23</th>\n",
       "      <td>0052cc</td>\n",
       "      <td>Frequency</td>\n",
       "      <td>https://api.github.com/repos/pydata/pandas/lab...</td>\n",
       "    </tr>\n",
       "    <tr>\n",
       "      <th>24</th>\n",
       "      <td>fbca04</td>\n",
       "      <td>Windows</td>\n",
       "      <td>https://api.github.com/repos/pydata/pandas/lab...</td>\n",
       "    </tr>\n",
       "    <tr>\n",
       "      <th>25</th>\n",
       "      <td>eb6420</td>\n",
       "      <td>Algos</td>\n",
       "      <td>https://api.github.com/repos/pydata/pandas/lab...</td>\n",
       "    </tr>\n",
       "    <tr>\n",
       "      <th>26</th>\n",
       "      <td>5319e7</td>\n",
       "      <td>Timezones</td>\n",
       "      <td>https://api.github.com/repos/pydata/pandas/lab...</td>\n",
       "    </tr>\n",
       "    <tr>\n",
       "      <th>27</th>\n",
       "      <td>eb6420</td>\n",
       "      <td>Period</td>\n",
       "      <td>https://api.github.com/repos/pydata/pandas/lab...</td>\n",
       "    </tr>\n",
       "    <tr>\n",
       "      <th>28</th>\n",
       "      <td>207de5</td>\n",
       "      <td>MultiIndex</td>\n",
       "      <td>https://api.github.com/repos/pydata/pandas/lab...</td>\n",
       "    </tr>\n",
       "    <tr>\n",
       "      <th>29</th>\n",
       "      <td>e11d21</td>\n",
       "      <td>Categorical</td>\n",
       "      <td>https://api.github.com/repos/pydata/pandas/lab...</td>\n",
       "    </tr>\n",
       "  </tbody>\n",
       "</table>\n",
       "</div>"
      ],
      "text/plain": [
       "     color               name  \\\n",
       "0   e10c02                Bug   \n",
       "1   4E9A06        Enhancement   \n",
       "2   FCE94F           Refactor   \n",
       "3   75507B              Build   \n",
       "4   3465A4               Docs   \n",
       "5   729FCF            Groupby   \n",
       "6   06909A            Data IO   \n",
       "7   8AE234      Visualization   \n",
       "8   0b02e1           Indexing   \n",
       "9   d7e102       Missing-data   \n",
       "10  a10c02        Performance   \n",
       "11  02d7e1          Reshaping   \n",
       "12  fbca04  Difficulty Novice   \n",
       "13  e102d8             Dtypes   \n",
       "14  DDDDDD     Note To Selves   \n",
       "15  AD7FA8         API Design   \n",
       "16  ffa0ff    Error Reporting   \n",
       "17  006b75            Numeric   \n",
       "18  5319e7                CSV   \n",
       "19  5319e7                SQL   \n",
       "20  a2bca7                 CI   \n",
       "21  fbca04          Internals   \n",
       "22  5319e7          Timedelta   \n",
       "23  0052cc          Frequency   \n",
       "24  fbca04            Windows   \n",
       "25  eb6420              Algos   \n",
       "26  5319e7          Timezones   \n",
       "27  eb6420             Period   \n",
       "28  207de5         MultiIndex   \n",
       "29  e11d21        Categorical   \n",
       "\n",
       "                                                  url  \n",
       "0   https://api.github.com/repos/pydata/pandas/lab...  \n",
       "1   https://api.github.com/repos/pydata/pandas/lab...  \n",
       "2   https://api.github.com/repos/pydata/pandas/lab...  \n",
       "3   https://api.github.com/repos/pydata/pandas/lab...  \n",
       "4   https://api.github.com/repos/pydata/pandas/lab...  \n",
       "5   https://api.github.com/repos/pydata/pandas/lab...  \n",
       "6   https://api.github.com/repos/pydata/pandas/lab...  \n",
       "7   https://api.github.com/repos/pydata/pandas/lab...  \n",
       "8   https://api.github.com/repos/pydata/pandas/lab...  \n",
       "9   https://api.github.com/repos/pydata/pandas/lab...  \n",
       "10  https://api.github.com/repos/pydata/pandas/lab...  \n",
       "11  https://api.github.com/repos/pydata/pandas/lab...  \n",
       "12  https://api.github.com/repos/pydata/pandas/lab...  \n",
       "13  https://api.github.com/repos/pydata/pandas/lab...  \n",
       "14  https://api.github.com/repos/pydata/pandas/lab...  \n",
       "15  https://api.github.com/repos/pydata/pandas/lab...  \n",
       "16  https://api.github.com/repos/pydata/pandas/lab...  \n",
       "17  https://api.github.com/repos/pydata/pandas/lab...  \n",
       "18  https://api.github.com/repos/pydata/pandas/lab...  \n",
       "19  https://api.github.com/repos/pydata/pandas/lab...  \n",
       "20  https://api.github.com/repos/pydata/pandas/lab...  \n",
       "21  https://api.github.com/repos/pydata/pandas/lab...  \n",
       "22  https://api.github.com/repos/pydata/pandas/lab...  \n",
       "23  https://api.github.com/repos/pydata/pandas/lab...  \n",
       "24  https://api.github.com/repos/pydata/pandas/lab...  \n",
       "25  https://api.github.com/repos/pydata/pandas/lab...  \n",
       "26  https://api.github.com/repos/pydata/pandas/lab...  \n",
       "27  https://api.github.com/repos/pydata/pandas/lab...  \n",
       "28  https://api.github.com/repos/pydata/pandas/lab...  \n",
       "29  https://api.github.com/repos/pydata/pandas/lab...  "
      ]
     },
     "execution_count": 673,
     "metadata": {},
     "output_type": "execute_result"
    }
   ],
   "source": [
    "issue_labels = DataFrame(data)   #해당 데이터를 다음과 같이 DataFrame으로 생성\n",
    "issue_labels"
   ]
  },
  {
   "cell_type": "code",
   "execution_count": 683,
   "metadata": {
    "collapsed": false
   },
   "outputs": [
    {
     "data": {
      "text/plain": [
       "color                                               8AE234\n",
       "name                                         Visualization\n",
       "url      https://api.github.com/repos/pydata/pandas/lab...\n",
       "Name: 7, dtype: object"
      ]
     },
     "execution_count": 683,
     "metadata": {},
     "output_type": "execute_result"
    }
   ],
   "source": [
    "issue_labels.ix[7]   #인덱스 8번째의 정보"
   ]
  },
  {
   "cell_type": "code",
   "execution_count": null,
   "metadata": {
    "collapsed": true
   },
   "outputs": [],
   "source": []
  },
  {
   "cell_type": "markdown",
   "metadata": {},
   "source": [
    "## 4. 데이터베이스와 함께 사용하기"
   ]
  },
  {
   "cell_type": "markdown",
   "metadata": {},
   "source": [
    "- SQL에서 데이터를 읽어와서 DataFrame에 저장하는 방법은 꽤 직관적이며, pandas에는 이 과정을 간결하게 해주는 함수가 몇가지 존재\n",
    "- 한 예로 파이썬의 sqlite3 드라이버를 사용해서 SQLite 데이터베이스를 이용할 수 있다."
   ]
  },
  {
   "cell_type": "code",
   "execution_count": 675,
   "metadata": {
    "collapsed": true
   },
   "outputs": [],
   "source": [
    "import sqlite3   #sqlite3데이터 베이스에 다음의 test라는 테이블을 생성\n",
    "\n",
    "query = \"\"\"\n",
    "CREATE TABLE test\n",
    "(a VARCHAR(20), b VARCHAR(20),\n",
    " c REAL,        d INTEGER\n",
    ");\"\"\"\n",
    "\n",
    "con = sqlite3.connect(':memory:')   #데이터베이스 연결 객체 생성\n",
    "con.execute(query)\n",
    "con.commit()"
   ]
  },
  {
   "cell_type": "code",
   "execution_count": 676,
   "metadata": {
    "collapsed": true
   },
   "outputs": [],
   "source": [
    "data = [('Atlanta', 'Georgia', 1.25, 6),       #해당 테이블에 넣을 자료를 리스트로 생성\n",
    "        ('Tallahassee', 'Florida', 2.6, 3),\n",
    "        ('Sacramento', 'California', 1.7, 5)]\n",
    "stmt = \"INSERT INTO test VALUES(?, ?, ?, ?)\"   #해당 자료가 들어갈 insert할 구문\n",
    "\n",
    "con.executemany(stmt, data)\n",
    "con.commit()"
   ]
  },
  {
   "cell_type": "code",
   "execution_count": 677,
   "metadata": {
    "collapsed": false
   },
   "outputs": [
    {
     "data": {
      "text/plain": [
       "[(u'Atlanta', u'Georgia', 1.25, 6),\n",
       " (u'Tallahassee', u'Florida', 2.6, 3),\n",
       " (u'Sacramento', u'California', 1.7, 5)]"
      ]
     },
     "execution_count": 677,
     "metadata": {},
     "output_type": "execute_result"
    }
   ],
   "source": [
    "cursor = con.execute('select * from test')   #해당 테이블의 자료를 볼 수 있도록 rows리스트에 저장하여 출력\n",
    "rows = cursor.fetchall()\n",
    "rows"
   ]
  },
  {
   "cell_type": "code",
   "execution_count": 678,
   "metadata": {
    "collapsed": false
   },
   "outputs": [
    {
     "data": {
      "text/plain": [
       "(('a', None, None, None, None, None, None),\n",
       " ('b', None, None, None, None, None, None),\n",
       " ('c', None, None, None, None, None, None),\n",
       " ('d', None, None, None, None, None, None))"
      ]
     },
     "execution_count": 678,
     "metadata": {},
     "output_type": "execute_result"
    }
   ],
   "source": [
    "cursor.description   #description 속성을 이용하여 칼럼의 이름을 지정"
   ]
  },
  {
   "cell_type": "code",
   "execution_count": 679,
   "metadata": {
    "collapsed": false
   },
   "outputs": [
    {
     "data": {
      "text/html": [
       "<div>\n",
       "<table border=\"1\" class=\"dataframe\">\n",
       "  <thead>\n",
       "    <tr style=\"text-align: right;\">\n",
       "      <th></th>\n",
       "      <th>a</th>\n",
       "      <th>b</th>\n",
       "      <th>c</th>\n",
       "      <th>d</th>\n",
       "    </tr>\n",
       "  </thead>\n",
       "  <tbody>\n",
       "    <tr>\n",
       "      <th>0</th>\n",
       "      <td>Atlanta</td>\n",
       "      <td>Georgia</td>\n",
       "      <td>1.25</td>\n",
       "      <td>6</td>\n",
       "    </tr>\n",
       "    <tr>\n",
       "      <th>1</th>\n",
       "      <td>Tallahassee</td>\n",
       "      <td>Florida</td>\n",
       "      <td>2.60</td>\n",
       "      <td>3</td>\n",
       "    </tr>\n",
       "    <tr>\n",
       "      <th>2</th>\n",
       "      <td>Sacramento</td>\n",
       "      <td>California</td>\n",
       "      <td>1.70</td>\n",
       "      <td>5</td>\n",
       "    </tr>\n",
       "  </tbody>\n",
       "</table>\n",
       "</div>"
      ],
      "text/plain": [
       "             a           b     c  d\n",
       "0      Atlanta     Georgia  1.25  6\n",
       "1  Tallahassee     Florida  2.60  3\n",
       "2   Sacramento  California  1.70  5"
      ]
     },
     "execution_count": 679,
     "metadata": {},
     "output_type": "execute_result"
    }
   ],
   "source": [
    "DataFrame(rows, columns=zip(*cursor.description)[0])   #rows와 각 해당 칼럼의 이름을 지정하여 DataFrame에 저장하여 출력"
   ]
  },
  {
   "cell_type": "markdown",
   "metadata": {},
   "source": [
    "- pandas.io.sql 모듈의 read_frame 함수를 이용하면 위의 작업을 쉽게 해결할 수 있다."
   ]
  },
  {
   "cell_type": "code",
   "execution_count": 680,
   "metadata": {
    "collapsed": false
   },
   "outputs": [
    {
     "data": {
      "text/html": [
       "<div>\n",
       "<table border=\"1\" class=\"dataframe\">\n",
       "  <thead>\n",
       "    <tr style=\"text-align: right;\">\n",
       "      <th></th>\n",
       "      <th>a</th>\n",
       "      <th>b</th>\n",
       "      <th>c</th>\n",
       "      <th>d</th>\n",
       "    </tr>\n",
       "  </thead>\n",
       "  <tbody>\n",
       "    <tr>\n",
       "      <th>0</th>\n",
       "      <td>Atlanta</td>\n",
       "      <td>Georgia</td>\n",
       "      <td>1.25</td>\n",
       "      <td>6</td>\n",
       "    </tr>\n",
       "    <tr>\n",
       "      <th>1</th>\n",
       "      <td>Tallahassee</td>\n",
       "      <td>Florida</td>\n",
       "      <td>2.60</td>\n",
       "      <td>3</td>\n",
       "    </tr>\n",
       "    <tr>\n",
       "      <th>2</th>\n",
       "      <td>Sacramento</td>\n",
       "      <td>California</td>\n",
       "      <td>1.70</td>\n",
       "      <td>5</td>\n",
       "    </tr>\n",
       "  </tbody>\n",
       "</table>\n",
       "</div>"
      ],
      "text/plain": [
       "             a           b     c  d\n",
       "0      Atlanta     Georgia  1.25  6\n",
       "1  Tallahassee     Florida  2.60  3\n",
       "2   Sacramento  California  1.70  5"
      ]
     },
     "execution_count": 680,
     "metadata": {},
     "output_type": "execute_result"
    }
   ],
   "source": [
    "import pandas.io.sql as sql\n",
    "sql.read_sql('select * from test', con)   #select쿼리문과 데이터베이스 연결 객체(con)만 넘기면 된다."
   ]
  },
  {
   "cell_type": "code",
   "execution_count": null,
   "metadata": {
    "collapsed": true
   },
   "outputs": [],
   "source": []
  },
  {
   "cell_type": "markdown",
   "metadata": {},
   "source": [
    "### 1) MongoDB에 데이터 저장하고 불러오기"
   ]
  },
  {
   "cell_type": "markdown",
   "metadata": {},
   "source": [
    "- MongoDB 서버를 로컬에 설치하고 공식 드라이버인 pymongo를 사용해서 기본 포트 번호로 연결"
   ]
  },
  {
   "cell_type": "code",
   "execution_count": 681,
   "metadata": {
    "collapsed": false
   },
   "outputs": [],
   "source": [
    "import pymongo"
   ]
  },
  {
   "cell_type": "code",
   "execution_count": 682,
   "metadata": {
    "collapsed": false,
    "scrolled": true
   },
   "outputs": [
    {
     "ename": "ConnectionFailure",
     "evalue": "[Errno 61] Connection refused",
     "output_type": "error",
     "traceback": [
      "\u001b[0;31m---------------------------------------------------------------------------\u001b[0m",
      "\u001b[0;31mConnectionFailure\u001b[0m                         Traceback (most recent call last)",
      "\u001b[0;32m<ipython-input-682-7d1e66a44fef>\u001b[0m in \u001b[0;36m<module>\u001b[0;34m()\u001b[0m\n\u001b[0;32m----> 1\u001b[0;31m \u001b[0mcon\u001b[0m \u001b[0;34m=\u001b[0m \u001b[0mpymongo\u001b[0m\u001b[0;34m.\u001b[0m\u001b[0mConnection\u001b[0m\u001b[0;34m(\u001b[0m\u001b[0;34m'localhost'\u001b[0m\u001b[0;34m,\u001b[0m \u001b[0mport\u001b[0m\u001b[0;34m=\u001b[0m\u001b[0;36m27017\u001b[0m\u001b[0;34m)\u001b[0m\u001b[0;34m\u001b[0m\u001b[0m\n\u001b[0m",
      "\u001b[0;32m/Users/hyunkyo/Library/Enthought/Canopy_64bit/User/lib/python2.7/site-packages/pymongo/connection.py\u001b[0m in \u001b[0;36m__init__\u001b[0;34m(self, host, port, max_pool_size, network_timeout, document_class, tz_aware, _connect, **kwargs)\u001b[0m\n\u001b[1;32m    239\u001b[0m \u001b[0;34m\u001b[0m\u001b[0m\n\u001b[1;32m    240\u001b[0m         super(Connection, self).__init__(host, port,\n\u001b[0;32m--> 241\u001b[0;31m                 max_pool_size, document_class, tz_aware, _connect, **kwargs)\n\u001b[0m\u001b[1;32m    242\u001b[0m \u001b[0;34m\u001b[0m\u001b[0m\n\u001b[1;32m    243\u001b[0m     \u001b[0;32mdef\u001b[0m \u001b[0m__repr__\u001b[0m\u001b[0;34m(\u001b[0m\u001b[0mself\u001b[0m\u001b[0;34m)\u001b[0m\u001b[0;34m:\u001b[0m\u001b[0;34m\u001b[0m\u001b[0m\n",
      "\u001b[0;32m/Users/hyunkyo/Library/Enthought/Canopy_64bit/User/lib/python2.7/site-packages/pymongo/mongo_client.py\u001b[0m in \u001b[0;36m__init__\u001b[0;34m(self, host, port, max_pool_size, document_class, tz_aware, _connect, **kwargs)\u001b[0m\n\u001b[1;32m    375\u001b[0m             \u001b[0;32mexcept\u001b[0m \u001b[0mAutoReconnect\u001b[0m\u001b[0;34m,\u001b[0m \u001b[0me\u001b[0m\u001b[0;34m:\u001b[0m\u001b[0;34m\u001b[0m\u001b[0m\n\u001b[1;32m    376\u001b[0m                 \u001b[0;31m# ConnectionFailure makes more sense here than AutoReconnect\u001b[0m\u001b[0;34m\u001b[0m\u001b[0;34m\u001b[0m\u001b[0m\n\u001b[0;32m--> 377\u001b[0;31m                 \u001b[0;32mraise\u001b[0m \u001b[0mConnectionFailure\u001b[0m\u001b[0;34m(\u001b[0m\u001b[0mstr\u001b[0m\u001b[0;34m(\u001b[0m\u001b[0me\u001b[0m\u001b[0;34m)\u001b[0m\u001b[0;34m)\u001b[0m\u001b[0;34m\u001b[0m\u001b[0m\n\u001b[0m\u001b[1;32m    378\u001b[0m \u001b[0;34m\u001b[0m\u001b[0m\n\u001b[1;32m    379\u001b[0m         \u001b[0;32mif\u001b[0m \u001b[0musername\u001b[0m\u001b[0;34m:\u001b[0m\u001b[0;34m\u001b[0m\u001b[0m\n",
      "\u001b[0;31mConnectionFailure\u001b[0m: [Errno 61] Connection refused"
     ]
    }
   ],
   "source": [
    "con = pymongo.Connection('localhost', port=27017)"
   ]
  },
  {
   "cell_type": "code",
   "execution_count": null,
   "metadata": {
    "collapsed": true
   },
   "outputs": [],
   "source": []
  }
 ],
 "metadata": {
  "kernelspec": {
   "display_name": "Python 2",
   "language": "python",
   "name": "python2"
  },
  "language_info": {
   "codemirror_mode": {
    "name": "ipython",
    "version": 2
   },
   "file_extension": ".py",
   "mimetype": "text/x-python",
   "name": "python",
   "nbconvert_exporter": "python",
   "pygments_lexer": "ipython2",
   "version": "2.7.9"
  }
 },
 "nbformat": 4,
 "nbformat_minor": 0
}
